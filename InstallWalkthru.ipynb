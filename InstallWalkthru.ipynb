{
 "cells": [
  {
   "cell_type": "markdown",
   "metadata": {},
   "source": [
    "# CEA Wrapper Install Procedure\n",
    "_IJDyke, '2024_"
   ]
  },
  {
   "cell_type": "markdown",
   "metadata": {},
   "source": [
    "## General Overview\n",
    "\n",
    "Chemical Equilibrium with Applications is a numerical solver for chemical reactions published by Nasa. \n",
    "\n",
    "* [The Homepage](https://www1.grc.nasa.gov/research-and-engineering/ceaweb/)\n",
    "\n",
    "Containing the description, history, and _(importantly, if you're trying to do anything fancy)_ the user manual & details on how to operate with the software itself: how to prepare inputs, read outputs, etc.\n",
    "\n",
    "\n",
    "It was originally created in the _1950s_, so it is written in FORTRAN. Since coding in FORTRAN is a dying art (and if you do know how to code FORTRAN, you'd be too busy making $$$ to be studying Mechanical Engineering), there are __'wrappers' for the software to have it interface in modern day languages__.\n",
    "\n",
    "__*AN IMPORTANT NOTE*__: As you work with CEA, you'll notice that it has entirely different operation to do with different thermodynamic problems. Many of the open-sourced wrappers were created for a specific issue -- generally rocket problems -- and as such do NOT include functionality for the Constant Volume combustion problems `UV` that we are interested in. _Be sure to investigate this before you just pick an implementation_."
   ]
  },
  {
   "cell_type": "markdown",
   "metadata": {},
   "source": [
    "## The Online Portal\n",
    "\n",
    "[Find Here Online: cearun](https://cearun.grc.nasa.gov/)\n",
    "\n",
    "_Good for getting familiar, getting singular output results_\n",
    "\n",
    "The online portal is the first way to get used to the set up. It lays everything out so that things are graphical and intuitive, there's limited avenues for shooting yourself in the foot, and you get a nice easy output format. However, it does pose its limitations as you begin moving to iterative solutions, optimization.\n"
   ]
  },
  {
   "cell_type": "markdown",
   "metadata": {},
   "source": [
    "![Cearun-inputType](./_pics/Cearun_1.png)\n",
    "\n",
    "_You're likely going to want to use the Combustion at Set Volume (Assigned Density) problem `UV`_\n",
    "\n",
    "The alphanumeric is just for naming your output text file so you don't get mixed up with them if you have a ton saved."
   ]
  },
  {
   "cell_type": "markdown",
   "metadata": {},
   "source": [
    "![Cearun-Density](./_pics/Cearun_2.png)\n",
    "\n",
    "Here you can add a set number of values to iterate thru for different densities. Make sure to check your units!"
   ]
  },
  {
   "cell_type": "markdown",
   "metadata": {},
   "source": [
    "![Cearun Fuels Basic](./_pics/Cearun_3.png)\n",
    "\n",
    "Here, you'll want to make sure that you have:\n",
    "\n",
    "* A set temperature picked out. Is it ambient going in? Or does it heat up significantly prior to combustion?\n",
    "* Likely that you're going with wt% (87 octane = 87wt% isooctane).\n",
    "* Then, go ahead and see the __Periodic Table__ view to select your actual desired inputs."
   ]
  },
  {
   "cell_type": "markdown",
   "metadata": {},
   "source": [
    "![CEA Periodic](./_pics/Cearun_4.png)\n",
    "![CEA Hydrocarbons](./_pics/Cearun_5.png)\n",
    "\n",
    "Now you have the periodic table view. Likely, you'll just be interested in the Hydrocarbons, so click this, and then select your desired.\n",
    "\n",
    "Typical gas is primarily n-heptane and iso-octane. __Confirm -- should it be gas or liquid for what you're doing?__"
   ]
  },
  {
   "cell_type": "markdown",
   "metadata": {},
   "source": [
    "![CEA Percentages Fuel](./_pics/Cearun_6.png)\n",
    "Now you get to select your mix ratio of the gas, depending on what grade you're interested in."
   ]
  },
  {
   "cell_type": "markdown",
   "metadata": {},
   "source": [
    "![CEA Fuel Densities](./_pics/Cearun_7.png)\n",
    "Feel free to adjust what specific properties each of your input fuels are as. Since its premixed fuel, likely going to be the same across the board...\n",
    "\n",
    "Hopefully you're not using Calories, make sure to confirm this!"
   ]
  },
  {
   "cell_type": "markdown",
   "metadata": {},
   "source": [
    "![CEA Oxidizers](./_pics/Cearun_8.png)\n",
    "Once again now, but for the oxidizers. Are you going to require your driver to run nitrous oxide on their bike? (_Hopefully not_)\n"
   ]
  },
  {
   "cell_type": "markdown",
   "metadata": {},
   "source": [
    "![CEA O/F](./_pics/Cearun_9.png)\n",
    "Here you can specify the Air/Fuel ratio. Stochiometric is 14.7:1, but is that really what you want?"
   ]
  },
  {
   "cell_type": "markdown",
   "metadata": {},
   "source": [
    "![CEA Outputs](./_pics/Cearun_10.png)\n",
    "\n",
    "* Long output will likely be more useful to your later analysis.\n",
    "* Be sure to read into the docs to check out what these other fields mean!"
   ]
  },
  {
   "cell_type": "markdown",
   "metadata": {},
   "source": [
    "![CEA Outputs](./_pics/Cearun_11.png)\n",
    "Here's the outputs!\n",
    "\n",
    "You can access the specific input (for reproducing) and output (for saving the full data) files from here. They'll be give as HTML; the backend has them as .inp and .out files, which in reality is just alternatively named .txt files."
   ]
  },
  {
   "cell_type": "markdown",
   "metadata": {},
   "source": [
    "## Matlab Wrappers"
   ]
  },
  {
   "cell_type": "markdown",
   "metadata": {},
   "source": [
    "### NASA Wrapper\n",
    "\n",
    "Likely your best bet is to use the wrapper provided by NASA. Find it here:\n",
    "\n",
    "[NASA Matlab Wrapper (MFS-33320-1)](https://software.nasa.gov/software/MFS-33320-1)\n",
    "\n",
    "To get it, you will have to __request it directly from NASA__. This is done in a couple steps:\n",
    "\n",
    "1) Set up a NASA guest account (to be able to log into their system)\n",
    "    * You'll need to confirm the account with an email to set a password.\n",
    "2) Go back to the login webpage and login with `Agency User ID`\n",
    "    * This will prompt to fill in your email (ID) and the password set with the confirmation email.\n",
    "3) Fill out the residency checks & related forms to have your request submitted.\n",
    "    * You're an employee of the university... right?\n",
    "    *\n"
   ]
  }
 ],
 "metadata": {
  "kernelspec": {
   "display_name": "emae360",
   "language": "python",
   "name": "python3"
  },
  "language_info": {
   "codemirror_mode": {
    "name": "ipython",
    "version": 3
   },
   "file_extension": ".py",
   "mimetype": "text/x-python",
   "name": "python",
   "nbconvert_exporter": "python",
   "pygments_lexer": "ipython3",
   "version": "3.12.5"
  }
 },
 "nbformat": 4,
 "nbformat_minor": 2
}
