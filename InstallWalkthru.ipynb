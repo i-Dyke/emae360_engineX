{
 "cells": [
  {
   "cell_type": "markdown",
   "metadata": {},
   "source": [
    "# CEA Wrappers :: Install & Use\n",
    "_IJDyke, '2024_"
   ]
  },
  {
   "cell_type": "markdown",
   "metadata": {},
   "source": [
    "## General Overview\n",
    "\n",
    "Chemical Equilibrium with Applications is a numerical solver for chemical reactions published by NASA. \n",
    "\n",
    "* [The Homepage](https://www1.grc.nasa.gov/research-and-engineering/ceaweb/)\n",
    "\n",
    "Containing the description, history, and _(importantly, if you're trying to do anything fancy)_ the user manual & details on how to operate with the software itself: how to prepare inputs, read outputs, etc.\n",
    "\n",
    "\n",
    "It was originally created in the _1950s_, so it is written in FORTRAN. Since coding in FORTRAN is a dying art (and if you do know how to code FORTRAN, you'd be too busy making $$$ to be studying Mechanical Engineering), there are __'wrappers' for the software to have it interface in modern day languages__.\n",
    "\n",
    "__*AN IMPORTANT NOTE*__: As you work with CEA, you'll notice that it has entirely different operation to do with different thermodynamic problems. Many of the open-sourced wrappers were created for a specific issue -- generally rocket problems -- and as such do NOT include functionality for the Constant Volume combustion problems `UV` that we are interested in. _Be sure to investigate this before you just pick an implementation_."
   ]
  },
  {
   "cell_type": "markdown",
   "metadata": {},
   "source": [
    "## The Online Portal\n",
    "\n",
    "[Find Here Online: cearun](https://cearun.grc.nasa.gov/)\n",
    "\n",
    "_Good for getting familiar, calculating singular output results_\n",
    "\n",
    "The online portal is the first way to get used to the set up. It lays everything out so that things are graphical and intuitive, there's limited avenues for shooting yourself in the foot, and you get a nice easy output format. However, it does pose its limitations as you begin moving to iterative solutions, optimization.\n",
    "\n",
    "Here is the webpage for the NASA-provided description of the different problem types: [CEARUN introduction](https://cearun.grc.nasa.gov/intro.html)\n"
   ]
  },
  {
   "cell_type": "markdown",
   "metadata": {},
   "source": [
    "### Using the Portal\n",
    "_You're likely going to want to use the Combustion at Set Volume (Assigned Density) problem `UV`_\n",
    "\n",
    "The alphanumeric is just for naming your output text file so you don't get mixed up with them if you have a ton saved."
   ]
  },
  {
   "cell_type": "markdown",
   "metadata": {},
   "source": [
    "![Cearun-inputType](./_pics/Cearun_1.png)"
   ]
  },
  {
   "cell_type": "markdown",
   "metadata": {},
   "source": [
    "------------\n",
    "Here you can add a set number of values to iterate thru for different densities. Make sure to check your units!"
   ]
  },
  {
   "cell_type": "markdown",
   "metadata": {},
   "source": [
    "![Cearun-Density](./_pics/Cearun_2.png)"
   ]
  },
  {
   "cell_type": "markdown",
   "metadata": {},
   "source": [
    "------------\n",
    "Here, you'll want to make sure that you have:\n",
    "\n",
    "* A set temperature picked out. Is it ambient going in? Or does it heat up significantly prior to combustion?\n",
    "* Likely that you're going with wt% (87 octane = 87wt% isooctane).\n",
    "* Then, go ahead and see the __Periodic Table__ view to select your actual desired inputs."
   ]
  },
  {
   "cell_type": "markdown",
   "metadata": {},
   "source": [
    "![Cearun Fuels Basic](./_pics/Cearun_3.png)"
   ]
  },
  {
   "cell_type": "markdown",
   "metadata": {},
   "source": [
    "---------\n",
    "Now you have the periodic table view. Likely, you'll just be interested in the Hydrocarbons, so click this, and then select your desired.\n",
    "\n",
    "Typical gas is primarily n-heptane and iso-octane. __Confirm -- should it be gas or liquid for what you're doing?__"
   ]
  },
  {
   "cell_type": "markdown",
   "metadata": {},
   "source": [
    "![CEA Hydrocarbons](./_pics/Cearun_5.png)"
   ]
  },
  {
   "cell_type": "markdown",
   "metadata": {},
   "source": [
    "![CEA Periodic](./_pics/Cearun_4.png)"
   ]
  },
  {
   "cell_type": "markdown",
   "metadata": {},
   "source": [
    "-------\n",
    "\n",
    "Now you get to select your mix ratio of the gas, depending on what grade you're interested in."
   ]
  },
  {
   "cell_type": "markdown",
   "metadata": {},
   "source": [
    "![CEA Percentages Fuel](./_pics/Cearun_6.png)"
   ]
  },
  {
   "cell_type": "markdown",
   "metadata": {},
   "source": [
    "-------------\n",
    "\n",
    "Feel free to adjust what specific properties each of your input fuels are as. Since its premixed fuel, likely going to be the same across the board...\n",
    "\n",
    "Hopefully you're not using Calories, make sure to confirm this!"
   ]
  },
  {
   "cell_type": "markdown",
   "metadata": {},
   "source": [
    "![CEA Fuel Densities](./_pics/Cearun_7.png)"
   ]
  },
  {
   "cell_type": "markdown",
   "metadata": {},
   "source": [
    "-----------------\n",
    "Once again now, but for the oxidizers. Are you going to require your driver to run nitrous oxide on their bike? (_Hopefully not_)"
   ]
  },
  {
   "cell_type": "markdown",
   "metadata": {},
   "source": [
    "![CEA Oxidizers](./_pics/Cearun_8.png)"
   ]
  },
  {
   "cell_type": "markdown",
   "metadata": {},
   "source": [
    "Here you can specify the Air/Fuel ratio. Stochiometric is 14.7:1, but is that really what you want?"
   ]
  },
  {
   "cell_type": "markdown",
   "metadata": {},
   "source": [
    "![CEA O/F](./_pics/Cearun_9.png)"
   ]
  },
  {
   "cell_type": "markdown",
   "metadata": {},
   "source": [
    "--------------\n",
    "\n",
    "* Long output will likely be more useful to your later analysis.\n",
    "* Be sure to read into the docs to check out what these other fields mean!"
   ]
  },
  {
   "cell_type": "markdown",
   "metadata": {},
   "source": [
    "![CEA Outputs](./_pics/Cearun_10.png)"
   ]
  },
  {
   "cell_type": "markdown",
   "metadata": {},
   "source": [
    "------ \n",
    "Here's the outputs!"
   ]
  },
  {
   "cell_type": "markdown",
   "metadata": {},
   "source": [
    "![CEA Outputs](./_pics/Cearun_11.png)"
   ]
  },
  {
   "cell_type": "markdown",
   "metadata": {},
   "source": [
    "------\n",
    "You can access the specific input (for reproducing) and output (for saving the full data) files from here. They'll be give as HTML; the backend has them as .inp and .out files, which in reality is just alternatively named .txt files."
   ]
  },
  {
   "cell_type": "markdown",
   "metadata": {},
   "source": [
    "## Matlab Wrapper"
   ]
  },
  {
   "cell_type": "markdown",
   "metadata": {},
   "source": [
    "### NASA Wrapper\n",
    "\n",
    "Likely your best bet is to use the wrapper provided by NASA. Find it here:\n",
    "\n",
    "[NASA Matlab Wrapper (MFS-33320-1)](https://software.nasa.gov/software/MFS-33320-1)\n",
    "\n",
    "To get it, you will have to __request it directly from NASA__. This is done in a couple steps:\n",
    "\n",
    "1) Set up a NASA guest account (to be able to log into their system)\n",
    "    * You'll need to confirm the account with an email to set a password.\n",
    "\n",
    "-----------\n",
    "\n",
    "![NASA Login Guest](./_pics/NasaMatlab_1.png)\n",
    "\n",
    "![NASA Guest Page](./_pics/NasaMatlab_2.png)\n",
    "\n",
    "-----------\n",
    "\n",
    "2) Go back to the login webpage and login with `Agency User ID`\n",
    "    * This will prompt to fill in your email (ID) and the password set with the confirmation email.\n",
    "\n",
    "![Nasa Login Main](./_pics/NasaMatlab_3.png)\n",
    "\n",
    "![Nasa Login Agency User](./_pics/NasaMatlab_4.png)\n",
    "\n",
    "-------------\n",
    "\n",
    "3) Fill out the residency checks & related forms to have your request submitted.\n",
    "    * For now, claim you're a `Private Individual`\n",
    "\n",
    "![NASA Private Individual](./_pics/NasaMatlab_5.png)\n",
    "\n",
    "-------------\n",
    "From there, NASA will perform whatever checks/background review they need to feel safe you're not a spy trying to steal an easily copiable piece of interface code to make fortran script from the 50's work inside of an expensive proprietary programming language.\n",
    "\n",
    "After your initial submission, they will also request that you submit a signature associated with accepting all of the terms & conditions of the software use. __They will say expect a 2 week wait,__ though this is likely intended to be a 'maximum'. For me, it took about 2 days to get the signature request, and another 2 days to get the final confirmation.\n",
    "\n",
    "After it is approved, you should be able to download, going back to the wesite and going to `Approved Requests`.\n",
    "\n",
    "![Final Download Screen](./_pics/NasaMatlab_6.png)\n"
   ]
  },
  {
   "cell_type": "markdown",
   "metadata": {},
   "source": [
    "### Getting Set-Up in Matlab\n",
    "\n",
    "From the Matlab file package downloaded, you'll need to unzip to open up the folder path. You'll see a folder with various options. There is:\n",
    "\n",
    "* CEA in Matlab Executable\n",
    "* CEA in Matlab for Python\n",
    "* CEA in Matlab GUI\n",
    "* CEA in Matlab\n",
    "\n",
    "The GUI won't be addressed here, but there seems to be pretty good documentation in the folder, with the PPTX.\n",
    "\n",
    "We're interested in the `CEA in Matlab` to get the command set up in Matlab. Make sure to unzip this folder; there will be three files and a powerpoint. \n",
    "\n",
    "* The Powerpoint does a full walkthru on how to use matlab, may be of some use.\n",
    "* The `CEA.m` and `CEA.p` files are the workhorses, along with the library file `thermo_lib.mat`\n",
    "\n",
    "The triple of `.m`, `.p`, and `.mat` files all basically function together as a single interdependent script file. You can either [add this to your matlab](https://www.mathworks.com/help/matlab/ref/addpath.html) `PATH` to access universally, or (_likely a better policy_) copying this group into your working folder. In any case, you should be able to call it simply by saying `CEA(arguments)`.\n"
   ]
  },
  {
   "cell_type": "markdown",
   "metadata": {},
   "source": [
    "### What is a p-file?\n",
    "\n",
    "It appears that NASA does _NOT_ want you to know how they managed to get CEA to run within matlab (_even though its mostly just formatting text strings to throw at the fortran function..._). As such, they utilize a specific matlab function of `p-codes` that makes the matlab script itself unreadable, and only parsable by `MATLAB` itself. To get it to work, you need to 'wrap' the pcode script by a normal `.m` file that simply defines the input/output behavior of the `.p` script, and then use as normal. \n",
    "\n",
    "Some reference: [pcode](https://www.mathworks.com/help/matlab/ref/pcode.html)"
   ]
  },
  {
   "cell_type": "markdown",
   "metadata": {},
   "source": [
    "### Matlab Example\n",
    "\n",
    "__Check out the `CEA.m` script file, there are a bunch of examples of using the fuction commented inline for you to copy-paste over__.\n",
    "\n",
    "_Installing the Matlab in Python Needs for using in Jupyter (for this document)._ Reference Here:\n",
    "https://www.mathworks.com/help/matlab/matlab_external/install-the-matlab-engine-for-python.html\n",
    "\n",
    "(Using: [Call User Scripts & Funcs from Python](https://www.mathworks.com/help/matlab/matlab_external/call-user-script-and-function-from-python.html))\n",
    "\n",
    "For Default windows dir: (find by opening matlab --> `mr`)\n",
    "* `cd C:\\Program Files\\MATLAB\\R2024b\\extern\\engines\\python`\n",
    "* `python -m pip install .`\n",
    "\n",
    "OR\n",
    "\n",
    "* `python -m pip install matlabengine`\n",
    "\n",
    "_For this implementation, is drawing from the matlab CEA function being in. You may have to update the directory information in the addpath command if you have it in a different folder._"
   ]
  },
  {
   "cell_type": "code",
   "execution_count": 14,
   "metadata": {},
   "outputs": [],
   "source": [
    "import matlab as mt \n",
    "import matlab.engine\n",
    "\n",
    "eng = matlab.engine.start_matlab()\n",
    "\n",
    "# Assumes files are in a subfolder within current directory\n",
    "#   Folder name = CEA_Matlab\n",
    "# mt.addpath(\"./CEA_Matlab/\")"
   ]
  },
  {
   "cell_type": "code",
   "execution_count": 15,
   "metadata": {},
   "outputs": [
    {
     "name": "stdout",
     "output_type": "stream",
     "text": [
      "mass : FALSE\n",
      "mole : TRUE\n",
      "warnings : ['', '', '', '', '', '', '', '', '', '', '', '', '', '', '', '', '', '', '', '', '', '', '', '', '', '', '', '', '', '', '', '', '', '', '', '', '', '', '', '', '', '', '', '', '', '', '', '', '', '', '', '', '', '', '', '', '', '', '', '', '', '', '', '', '', '', '', '', '', '', '', '', '', '', '', '', '', '', '', '', '', '', '', '', '', '', '', '', '', '', '', '', '', '', '', '', '', '', '', '', '', '', '', '', '', '', '', '', '', '', '', '', '', '', '', '', '', '', '', '', '', '', '', '', '', '', '', '', '', '', '', '', '', '', '', '', '', '', '', '', '', '', '', '', '', '', '', '', '', '', '', '', '', '', '', '', '', '', '', '', '', '', '', '', '', '', '', '', '', '', '', '', '', '', '', '', '', '', '', '', '', '', '', '', '', '', '', '', '', '', '', '', '', '', '', '', '', '', '', '']\n",
      "mr_counter : 1.0\n",
      "density_counter : 1.0\n",
      "units : {'class': 'mks', 'pressure': {'units': 'bar', 'factor': 1.0}, 'temperature': {'units': 'K', 'factor': 1.0, 'offset': 0.0}, 'density': {'units': 'kg/m^3', 'factor': 1.0}, 'volume': {'units': 'm^3/kg', 'factor': 1.0}, 'enthalpy': {'units': 'kJ/kg', 'factor': 1.0}, 'energy': {'units': 'kJ/kg', 'factor': 1.0}, 'gibbs': {'units': 'kJ/kg', 'factor': 1.0}, 'entropy': {'units': 'kJ/kg-K', 'factor': 1.0}, 'cp': {'units': 'kJ/kg-K', 'factor': 1.0}, 'velocity': {'units': 'm/s', 'factor': 1.0}, 'viscosity': {'units': 'uPa-s', 'factor': 100.0}, 'conductivity': {'units': 'W/m-K', 'factor': 0.1}}\n",
      "pressure : 99.97415995929195\n",
      "temperature : 2418.553702660334\n",
      "density : 14.428000000000004\n",
      "enthalpy : 317.64807113019504\n",
      "energy : -375.2695886930094\n",
      "gibbs : -19437.27403347078\n",
      "entropy : 8.168072548015443\n",
      "mw : 29.020892542177577\n",
      "dlvtp : 1.018924113648835\n",
      "dlvpt : -1.0006806595831208\n",
      "cp : 1.6093476653545253\n",
      "gamma : 1.2257063604999168\n",
      "sonvel : 921.582108630598\n",
      "oxfl : 17.0\n",
      "phi : 0.8518646304649327\n",
      "eqrat : 0.8520905811227234\n",
      "pfuel : 5.555555555555555\n",
      "temp_fit : 20000.0\n",
      "reactant_rho : 0.0\n",
      "products : ['*Ar', '*CN', '*CO', '*CO2', 'COOH', '*H', 'HCN', 'HCO', 'HNC', 'HNCO', 'HNO', 'HNO2', 'HNO3', 'HO2', '*H2', 'HCHO,formaldehy', 'HCOOH', 'H2O', 'H2O2', '*N', 'NCO', '*NH', 'NH2', 'NH3', 'NH2OH', '*NO', 'NO2', 'NO3', '*N2', 'N2H2', 'NH2NO2', 'N2O', 'N2O3', 'N2O4', 'N3', 'N3H', '*O', '*OH', '*O2', 'O3']\n",
      "fractions : [[0.008866334788350812],[5.842460269476793e-14],[0.001676622350762606],[0.11537087141397415],[5.1535359452373506e-08],[2.753898933624248e-05],[1.0539130622738184e-11],[7.372942906342858e-10],[1.0142961301397053e-12],[1.2305900999991323e-09],[4.2177886978538767e-07],[1.8490254091023308e-06],[1.1291657509892321e-09],[7.987619183820332e-06],[0.0002505562993664671],[1.7098793220369635e-11],[6.4557216277007615e-09],[0.10277111839205305],[9.875195384728638e-07],[1.1484168374683907e-08],[8.302637759427256e-11],[2.9313603391259116e-09],[1.7072432352251557e-09],[3.888016328555845e-09],[1.0203354461594838e-11],[0.006774392715191255],[2.345926074065233e-05],[1.9233373775729779e-10],[0.7354732925522212],[5.166466314039514e-13],[2.433805410052517e-15],[3.643462197585403e-06],[2.4356242184682828e-11],[3.0938878192564346e-15],[1.23227499563007e-12],[3.8487023844136586e-13],[0.0001549779154378419],[0.0023475706781994616],[0.02624830013182796],[1.2087811687102954e-08]]\n",
      "\n",
      "\n",
      "Specific Values:\n",
      "2418.553702660334\n",
      "*CO[0.001676622350762606]\n"
     ]
    }
   ],
   "source": [
    "# Drawing from v1.3 examples ~ Nelson, Reynolds, Kopicz\n",
    "UV1 = eng.CEA('reac','oxid','Air','wtfrac',1,'t(k)',700,'fuel','C7H8(L)','wtfrac',0.4,'t(k)',298.15,'fuel','C8H18(L),n-octa','wtfrac',0.6,'t(k)', 298.15,'prob','case','Example-4','uv','o/f',17,'u/r',-45.1343,'rho,kg/m^3',14.428,'omit','CH2CO,ketene','Air','HO(CO)2OH','CH2','CH3','CH2OH','CH3O','CH4','CH3OH','CCN','CNC','C2N2','C2O','C3H4,allene', 'C3H4,propyne','C3H4,cyclo-','C3','C3H5,allyl','C3H6,propylene','C3H6,cyclo-','C3H3,propargyl','C3H6O','C3H7,n-propyl','C3H7,i-propyl','Jet-A(g)','C3O2','C4','C4H2','C3H8O,2propanol','C4H4,1,3-cyclo-','C4H6,butadiene','C4H6,2butyne','C3H8O,1propanol', 'C4H8,tr2-butene','C4H8,isobutene','C4H8,cyclo-','C4H6,cyclo','(CH3COOH)2','C4H9,n-butyl','C4H9,i-butyl','C4H8,l-butene', 'C4H9,s-butyl','C4H9,t-butyl','C4H10,isobutane','C4H8,cis2-buten','C4H10,n-butane','C4N2','C5','C3H8','C5H6,l,3cyclo-', 'C5H8,cyclo-','C5H10,l-pentene','C10H21,n-decyl','C5H10,cyclo-','C5H11,pentyl','C5H11,t-pentyl','C12H10,biphenyl','C5H12,n-pentane','C5H12,i-pentane','CH3C(CH3)2CH3','C12H9,o-bipheny','C6H6','C6H5OH,phenol','C6H10,cyclo-','C6H2','C6H12,l-hexane','C6H12,cyclo-','C6H13,n-hexyl','C6H5,phenyl','C7H7,benzyl','C7H8','C7H8,cresol-mx','C6H5O,phenoxy','C7H14,l-heptane','C7H15,n-heptyl','C7H16,n-heptane','C10H8,azulene','C8H8,atyrene','C8H10,ethylbenz','C8H16,l-octene', 'C10H8,napthlene','C8H17,n-octyl','C8H18,isooctane','C8H18,n-octane','C9H19,n-octyl','C7H8(L)','C8H18(L),n-octa','Jet-A(L)','C6H6(L)','H2O(s)','H2O(L)','output','mks','trace',1e-15,'end','screen')\n",
    "\n",
    "# Printing the contents of the state.\n",
    "for item in UV1['output']:\n",
    "    print(\"%s : %s\"%(item,UV1['output'][item]))\n",
    "\n",
    "\n",
    "print('\\n')\n",
    "## Accessing specific values\n",
    "print(\"Specific Values:\")\n",
    "print(UV1['output']['temperature'])\n",
    "## Note - stores products & fractions in similar-indexed arrays\n",
    "print(str(UV1['output']['products'][2]) +\n",
    "      str(UV1['output']['fractions'][2]))"
   ]
  },
  {
   "cell_type": "markdown",
   "metadata": {},
   "source": [
    "## Python Wrapper"
   ]
  },
  {
   "cell_type": "markdown",
   "metadata": {},
   "source": [
    "Python in particular has a pretty large issue with the aforementioned _\"the maintainer only ever added functionality for Rocket Problems\"_ issue. It isn't _necessarily_ difficult to fork someone else's repository to make it work for you, but ideally you should try to find one that does have it already built in.\n",
    "\n",
    "One that __*DOES*__ have UV problems added is: `CEA_Wrap`, by _CivilWarGeeky_. Access it on github here: \n",
    "\n",
    "[CEA_Wrap](https://github.com/civilwargeeky/CEA_Wrap).\n",
    "\n",
    "~~It is also available on [PyPi](https://pypi.org/project/CEA-Wrap/) as `pip install CEA_Wrap`~~\n",
    "* __NOTE__: As of October 2024, the PyPi version has not been updated to the most recent version that has the `UVProblem` functionality added. Please See below. Further, none of the documentation has been updated to note the addition of `UVProblem` to the repository -- see below examples.\n",
    "\n",
    "Otherwise, you can follow the below instructions to get set up.\n"
   ]
  },
  {
   "cell_type": "markdown",
   "metadata": {},
   "source": [
    "### CEA_Wrap Local Install\n",
    "\n",
    "1) Download the full CEA_Wrap repository -- either `git clone` or just download + extract the zip file.\n",
    "\n",
    "2) Put the repository into your current working folder (directory) with your CEA code.\n",
    "\n",
    "3) Install the local module.\n",
    "    * From a python script/jupyter, you can use `!pip install -e ./CEA_Wrap` while operating _in your working directory_\n",
    "        * Or, you can use the basic `pip install -e ./CEA_Wrap` from a python-instantiated terminal session.\n",
    "        * Note: the `./` implies that CEA_Wrap is in the same folder as your current file being run, or your working directory in the terminal. If you are one extra folder deep, then you can back-reference to `../CEA_Wrap`, or can go deeper with `./CEA_Wrap/{next folder}`.\n",
    "    * You will likely have to restart / reopen python afterwards for the changes to take effect.\n",
    "    * Check that it is installed properly : `pip list` in the terminal, you should see it listed there (with the project location shown as a directory)\n",
    "\n",
    "4) You should now be able to use CEA_Wrap from the normal python import `import CEA_Wrap as cea` \n",
    "\n",
    "\n",
    "IF there are issues with it loading:\n",
    "*   It may be due to the 'portable install' not setting up the correct dependencies. \n",
    "    * Read thru the [.readme](https://github.com/civilwargeeky/CEA_Wrap/blob/main/README.md) discussion of the portable install.\n",
    "    * (Possibly:) try reinstalling the module from PyPI, and then swapping back to the portable folder implementation.\n",
    "        *   `pip uninstall CEA_Wrap` --> `pip install CEA_Wrap` --> `pip uninstall CEA_Wrap` --> `pip install -e ../CEA_Wrap`\n",
    "\n",
    "IF there are issues with importing:\n",
    "*   For some reason, there may be an issue with the portable copy not understanding _where_ the actual module is. Instead of the normal `import CEA_Wrap`, try `from CEA_Wrap import CEA_Wrap`.\n"
   ]
  },
  {
   "cell_type": "markdown",
   "metadata": {},
   "source": [
    "### Using CEA_Wrap"
   ]
  },
  {
   "cell_type": "code",
   "execution_count": 16,
   "metadata": {},
   "outputs": [],
   "source": [
    "from CEA_Wrap import CEA_Wrap as cea\n",
    "\n",
    "hept = 'C7H16,n-heptane'\n",
    "oct = 'C8H18,isooctane'\n",
    "a = \"Air\"\n",
    "\n",
    "h87 = cea.Fuel(hept, wt_percent= 13.00) #n-heptane\n",
    "o87 = cea.Fuel(oct, wt_percent= 87.00) #iso-octane\n",
    "a100 = cea.Oxidizer(a, wt_percent= 100.00)\n",
    "m87 = [h87,o87,a100]\n",
    "\n",
    "combustionProblem = cea.UVProblem(\n",
    "        filename = \"test\",\n",
    "        materials = m87,\n",
    "        density = 11.731,\n",
    "        density_units = \"kg\",\n",
    "        massf = True, # mass Fraction\n",
    "        o_f = 13 # oxidizer/fuel\n",
    "    )\n",
    "\n",
    "realCombustion = combustionProblem.run()"
   ]
  },
  {
   "cell_type": "code",
   "execution_count": 17,
   "metadata": {},
   "outputs": [
    {
     "name": "stdout",
     "output_type": "stream",
     "text": [
      "prod_c : {'Ar': 0.01199, 'CO': 0.05199, 'CO2': 0.13885, 'H': 2e-05, 'H2': 0.0009, 'H2O': 0.09256, 'NO': 0.00128, 'N2': 0.70064, 'O': 4e-05, 'OH': 0.00134, 'O2': 0.00037}\n",
      "dLV_dLP_t : -1.00134\n",
      "dLV_dLT_p : 1.0345\n",
      "visc : 9.131800000000001e-05\n",
      "p : 95.35\n",
      "t : 2710.4\n",
      "rho : 11.731\n",
      "h : 588.46\n",
      "u : -224.34\n",
      "g : -22966.0\n",
      "s : 8.6907\n",
      "m : 0.0\n",
      "mw : 27.725\n",
      "cp : 1.7741\n",
      "gammas : 1.2189\n",
      "phi : 1.1644\n",
      "son : 995.33\n",
      "cond : 2.6385\n",
      "pran : 0.61404\n",
      "gamma : 1.220533326\n"
     ]
    }
   ],
   "source": [
    "# Printing the contents of the state.\n",
    "for item in realCombustion:\n",
    "    print(\"%s : %s\"%(item,realCombustion[item]))"
   ]
  },
  {
   "cell_type": "code",
   "execution_count": 18,
   "metadata": {},
   "outputs": [
    {
     "name": "stdout",
     "output_type": "stream",
     "text": [
      "2710.4\n",
      "0.01199\n"
     ]
    }
   ],
   "source": [
    "## Accessing specific values\n",
    "\n",
    "print(realCombustion['t'])\n",
    "\n",
    "print(realCombustion['prod_c']['Ar'])"
   ]
  },
  {
   "cell_type": "markdown",
   "metadata": {},
   "source": [
    "# Additional Resources\n",
    "\n",
    "* [Using NASA-CEA, A. Miyoshi](http://akrmys.com/public/cea/cea_index.html.en)\n",
    "\n",
    "Describes a way of performing the automation methods of the wrappers straight from the command-line. \"Bare-knuckle\" approach.\n",
    "\n",
    "_Caution that the webpage isn't secured... really old site?_\n",
    "\n",
    "## Alternatives:\n",
    "\n",
    "There are some alternatives to the old Fortran CEA code that are out there.\n",
    "\n",
    "### Combustion Toolbox\n",
    "\n",
    "For `MATLAB`, the _Combustion Toolbox_ seems to be a promising, open-source alternative. From the description, it appears to be re-implementing much of the original CEA base processes (_the whole functionality of the Fortran is documented by NASA_). The website as well shows near-exact similarity of outputs between the two services in a few chosen applications. Use at your own discretion.\n",
    "\n",
    "There also appears to be a less-supported translation into Python -- see the top of the Github `readme`. \n",
    "\n",
    "[Combustion Toolbox Homepage](https://combustion-toolbox-website.readthedocs.io/en/latest/)\n",
    "\n",
    "[Combustion Toolbox Github](https://github.com/CombustionToolbox/combustion_toolbox)\n"
   ]
  }
 ],
 "metadata": {
  "kernelspec": {
   "display_name": "emae360",
   "language": "python",
   "name": "python3"
  },
  "language_info": {
   "codemirror_mode": {
    "name": "ipython",
    "version": 3
   },
   "file_extension": ".py",
   "mimetype": "text/x-python",
   "name": "python",
   "nbconvert_exporter": "python",
   "pygments_lexer": "ipython3",
   "version": "3.12.5"
  }
 },
 "nbformat": 4,
 "nbformat_minor": 2
}
