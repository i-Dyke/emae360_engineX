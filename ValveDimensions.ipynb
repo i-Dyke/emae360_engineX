{
 "cells": [
  {
   "cell_type": "code",
   "execution_count": 1,
   "metadata": {},
   "outputs": [],
   "source": [
    "import sympy as sy\n",
    "import numpy as np\n",
    "from IPython.display import display, Math"
   ]
  },
  {
   "cell_type": "markdown",
   "metadata": {},
   "source": [
    "# Valve Sleeve Forces, Flat-Follower"
   ]
  },
  {
   "cell_type": "code",
   "execution_count": 88,
   "metadata": {},
   "outputs": [],
   "source": [
    "fric_cam = .01 # https://www.mdpi.com/2075-4442/9/11/106 Figure 7\n",
    "fric_sleeve = .44 # https://www.engineeringtoolbox.com/friction-coefficients-d_778.html Brass to Steel, Dry\n",
    "\n",
    "diam_baseCircle = .04*2 # THROWAWAY VAL meters\n",
    "lift = 0.010349 # meters\n",
    "offset = diam_baseCircle/2 + lift # m, approximate, l\n",
    "\n",
    "#length_sleeve # m \n",
    "load = 375 # N\n",
    "\n",
    "# Keep N1 and N2 to be less than 5% of the spring force\n",
    "N1_max = load * .05\n",
    "N2_max = load * .05\n",
    "\n",
    "length_followerOverhange = lift * 1.2 # m, 'A' ~ Approximate\n"
   ]
  },
  {
   "cell_type": "code",
   "execution_count": 85,
   "metadata": {},
   "outputs": [
    {
     "data": {
      "text/latex": [
       "$\\displaystyle \\frac{L \\left(\\mu_{c} \\left(2 A + B\\right) - l\\right)}{B - \\mu_{c} \\mu_{s} \\left(2 A + B\\right) + 2 \\mu_{s} l} - N_{1}$"
      ],
      "text/plain": [
       "L*(\\mu_c*(2*A + B) - l)/(B - \\mu_c*\\mu_s*(2*A + B) + 2*\\mu_s*l) - N_1"
      ]
     },
     "metadata": {},
     "output_type": "display_data"
    }
   ],
   "source": [
    "m_c, m_s, F, L, l = sy.symbols('\\\\mu_c \\\\mu_s F L l', real = True)\n",
    "\n",
    "N1, N2, A, B = sy.symbols('N_1 N_2 A B', real = True)\n",
    "\n",
    "Force = B * L / ( B + 2 * l * m_s - m_s * m_c * (2 * A + B)) - F\n",
    "N2_equation = L * (m_c * A - l) / (B + 2 * l * m_s - m_s * m_c * (2 * A + B)) - N2\n",
    "N1_equation = L * (m_c * (2*A + B) - l) / ( B + 2*l*m_s - m_s * m_c * (2 * A + B)) - N1\n",
    "\n",
    "display(N1_equation)\n"
   ]
  },
  {
   "cell_type": "code",
   "execution_count": 97,
   "metadata": {},
   "outputs": [
    {
     "data": {
      "text/latex": [
       "$\\displaystyle \\frac{- 2 A L \\mu_{c} - 2 A N_{1} \\mu_{c} \\mu_{s} + L l + 2 N_{1} \\mu_{s} l}{L \\mu_{c} + N_{1} \\mu_{c} \\mu_{s} - N_{1}}$"
      ],
      "text/plain": [
       "<IPython.core.display.Math object>"
      ]
     },
     "metadata": {},
     "output_type": "display_data"
    },
    {
     "name": "stdout",
     "output_type": "stream",
     "text": [
      "-1.31499536772247\n"
     ]
    },
    {
     "data": {
      "text/latex": [
       "$\\displaystyle \\frac{- A L \\mu_{c} - 2 A N_{2} \\mu_{c} \\mu_{s} + L l + 2 N_{2} \\mu_{s} l}{N_{2} \\left(\\mu_{c} \\mu_{s} - 1\\right)}$"
      ],
      "text/plain": [
       "<IPython.core.display.Math object>"
      ]
     },
     "metadata": {},
     "output_type": "display_data"
    },
    {
     "name": "stdout",
     "output_type": "stream",
     "text": [
      "-1.05332872093210\n"
     ]
    }
   ],
   "source": [
    "B_N1 = sy.solve(N1_equation, B)[0]\n",
    "display(Math(sy.latex(B_N1)))\n",
    "\n",
    "soln_B_N1 = B_N1.subs([\n",
    "    (A, length_followerOverhange),\n",
    "    (m_c, fric_cam),\n",
    "    (m_s, fric_sleeve),\n",
    "    (N1, N1_max),\n",
    "    (L, load),\n",
    "    (l, offset)\n",
    "    ])\n",
    "print(soln_B_N1)\n",
    "\n",
    "B_N2 = sy.solve(N2_equation, B)[0]\n",
    "display(Math(sy.latex(B_N2)))\n",
    "soln_B_N2 = B_N2.subs([\n",
    "    (A, length_followerOverhange), \n",
    "    (m_c, fric_cam),\n",
    "    (m_s, fric_sleeve),\n",
    "    (N2, N2_max),\n",
    "    (L, load),\n",
    "    (l, offset)\n",
    "    ])\n",
    "print(soln_B_N2)"
   ]
  },
  {
   "cell_type": "code",
   "execution_count": 96,
   "metadata": {},
   "outputs": [
    {
     "data": {
      "text/latex": [
       "$\\displaystyle \\left[ \\frac{L \\left(- 2 A \\mu_{c} - B \\mu_{c} + l\\right)}{2 A \\mu_{c} \\mu_{s} + B \\mu_{c} \\mu_{s} - B - 2 \\mu_{s} l}\\right]$"
      ],
      "text/plain": [
       "<IPython.core.display.Math object>"
      ]
     },
     "metadata": {},
     "output_type": "display_data"
    },
    {
     "data": {
      "text/latex": [
       "$\\displaystyle 18.75$"
      ],
      "text/plain": [
       "18.7500000000000"
      ]
     },
     "execution_count": 96,
     "metadata": {},
     "output_type": "execute_result"
    }
   ],
   "source": [
    "# Double-checking\n",
    "\n",
    "display(Math(sy.latex(sy.solve(N1_equation, N1))))\n",
    "sy.solve(N1_equation, N1)[0].subs([\n",
    "    (L, load),\n",
    "    (l, offset),\n",
    "    (m_c, fric_cam),\n",
    "    (m_s, fric_sleeve),\n",
    "    (A, length_followerOverhange),\n",
    "    (B, soln_B_N1)\n",
    "]\n",
    ")"
   ]
  },
  {
   "cell_type": "markdown",
   "metadata": {},
   "source": [
    "Not entirely sure why its spitting out negative numbers, but the book did say that flat followers have very little sidewards forces due to the 0 pressure angle, so maybe its just too low to solve properly. Idk.\n",
    "In any case, this isn't our design constraint for this part -- **likely moreso keeping it rigidly aligned than any sort of frictional effects**."
   ]
  }
 ],
 "metadata": {
  "kernelspec": {
   "display_name": "base",
   "language": "python",
   "name": "python3"
  },
  "language_info": {
   "codemirror_mode": {
    "name": "ipython",
    "version": 3
   },
   "file_extension": ".py",
   "mimetype": "text/x-python",
   "name": "python",
   "nbconvert_exporter": "python",
   "pygments_lexer": "ipython3",
   "version": "3.11.3"
  },
  "orig_nbformat": 4
 },
 "nbformat": 4,
 "nbformat_minor": 2
}
