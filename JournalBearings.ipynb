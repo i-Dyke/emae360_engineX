{
 "cells": [
  {
   "cell_type": "code",
   "execution_count": 80,
   "metadata": {},
   "outputs": [],
   "source": [
    "import numpy as np"
   ]
  },
  {
   "cell_type": "markdown",
   "metadata": {},
   "source": [
    "## Viscosity Functions\n",
    "From \"Fundamentals of Machine Component Design\" Section 12, pp 633-635\n",
    "Reference TBL12-1\n",
    "\n",
    "Note: \n",
    "\n",
    "(F-32)*5/9 = C\n",
    "\n",
    "6.89 * microreyn = milli-PascalSec  --> 6.89 * microreyn /1000 = PascalSec --> 6.89 * 1000 reyn = PascalSec"
   ]
  },
  {
   "cell_type": "code",
   "execution_count": 109,
   "metadata": {},
   "outputs": [],
   "source": [
    "# Idek what the fuck that scaling is on the plot. \n",
    "# Its like exponential scaling, which I have never even seen before.\n",
    "# It shows empiral formulas for the basic SAE oils tho\n",
    "def Visc_SAE_Seireg(Temp, Grade, Metric = False):\n",
    "    if (Metric):\n",
    "        Temp = (Temp * 9/5) + 32 # C to F\n",
    "    match Grade:\n",
    "        case 10:\n",
    "            m0 = 0.0158E-6\n",
    "            b = 1157.5\n",
    "        case 20:\n",
    "            m0 = 0.0136E-6\n",
    "            b = 1271.6\n",
    "        case 30:\n",
    "            m0 = 0.0141E-6\n",
    "            b = 1360.0\n",
    "        case 40:\n",
    "            m0 = 0.0121E-6\n",
    "            b = 1474.4\n",
    "        case 50:\n",
    "            m0 = 0.0170E-6\n",
    "            b = 1509.6\n",
    "        case 60:\n",
    "            m0 = 0.0187E-6\n",
    "            b = 1564.0\n",
    "    if (not Metric):\n",
    "        return m0 * np.e**(b / (Temp + 95))    \n",
    "    else:\n",
    "        return m0 * np.e**(b / (Temp + 95)) * 6.89 * 1000 # convert back to Metric\n",
    "\n",
    "# Exponential Fit of the Below Data Source, as found in the GDrive\n",
    "# https://wiki.anton-paar.com/us-en/engine-oil/\n",
    "def Visc_SAE_Inter(Temp, Grade, Metric = False):\n",
    "    match Grade:\n",
    "        case \"30\":\n",
    "            if (Metric): mu = 243.9 * Temp**(-2.24)\n",
    "            else: mu = 119.4 * Temp**(-3.48)\n",
    "        case \"10W-40\":\n",
    "            if (Metric): \n",
    "                if(Temp < 10): # very inaccurate fit below this\n",
    "                    print(\"Outside of Interpolation acceptability range\")\n",
    "                    return None\n",
    "                else: mu = 19.6 * Temp**(-1.56)\n",
    "            else: \n",
    "                if(Temp < 50): # very inaccurate fit below this\n",
    "                    print(\"Outside of Interpolation acceptability range\")\n",
    "                    return None\n",
    "                else: mu = 0.348 * Temp**(-2.25)\n",
    "    return mu\n",
    "\n",
    "            "
   ]
  },
  {
   "cell_type": "code",
   "execution_count": 194,
   "metadata": {},
   "outputs": [],
   "source": [
    "# Sommerfeld Calculation for Naturally Lubricated Journal Bearings\n",
    "def Sommerfeld(mu, r, c, N, p, echo = False):\n",
    "    S = (float(r)/float(c))**2 * float(mu) * float(N) / float(p) \n",
    "    if(echo): print(\"Sommerfeld #: \" + str(S))\n",
    "    return S \n",
    "\n",
    "# Frictional Coefficent r/c * f calculation\n",
    "#   Polynomial Fit to readings from Fig 12-18. \n",
    "#   4th order chosen for Infinite Case\n",
    "#   Non-infinite cases not implemented\n",
    "def FricFactor(S, mu, N, p, r, c, inf = True, echo = True):\n",
    "    if (inf):\n",
    "        if (S > 0.5): \n",
    "            if (echo): print(\"Petroff's Equation for Extrapolation\")\n",
    "            f = 2 * np.pi**2 * mu * N / P * r \n",
    "        else:\n",
    "            A = 0.407\n",
    "            B = 22.7\n",
    "            C = -86.8\n",
    "            D = 310\n",
    "            E = -310\n",
    "            f = A + B * S + C * S**2 + D * S**3 + E * S**4\n",
    "    else:\n",
    "        f = None # not implemented for non-inf\n",
    "    return f    \n",
    "\n",
    "# Flow Factor Q/(rcNl) calaculation\n",
    "#   Fit values to readings from fig 12-19.\n",
    "#   Non-infinite cases not implemented\n",
    "def FlowFactor(S, inf = True):\n",
    "    if(inf):\n",
    "        if(S < 0.06):\n",
    "            Q = 37.4 * S - 9.32E-3 # Linear Interpolation 0 -> 0.06, R^2 = 0.997\n",
    "        elif(S < 0.341):\n",
    "            Q = 3.59 + 0.456 * np.log(S) # Natural Log Interpolation 0.06 -> 0.4, R^2 = 0.916\n",
    "        else: # S >= 0.341\n",
    "            Q = 3.1\n",
    "    else: Q = None\n",
    "    return Q \n",
    "\n",
    "# Calculation of temperature change via the Temperature Factor (see below)\n",
    "def TempDelta(Tval, p, Metric = False, iter = 0):\n",
    "    if (Metric): delT = Tval * p / 0.120E-6 # for Metric\n",
    "    else: delT = Tval * p / 9.7 # for Imperial\n",
    "\n",
    "    if iter != 0:\n",
    "        print(\"Temperature Delta (\" + str(iter) + \"): \" + str(delT))    \n",
    "    return delT\n",
    "\n",
    "# Temperature Factor Evaluation for Infinite L/D ratio only\n",
    "#   Simplification of formula 12-15\n",
    "def TempFactorINF(S, mu, N, p, r, c):\n",
    "    frc = FricFactor(S = S, mu = mu, N = N, p = p, r = r, c = c, inf = True, echo = True)\n",
    "    Qrcnl = FlowFactor(S = S, inf = True)\n",
    "    return frc / Qrcnl\n",
    "\n",
    "\n",
    "# Calculation of Temperature Factor for limited L/D ratio\n",
    "#   Reference Fig 12-24, EQN 12-16\n",
    "#   Requires inputs to mu, N, p, c to do interpolation\n",
    "def TempFactor(S, l, d, mu = None, N = None, p = None, c = None, echo = False):\n",
    "    r = d / 2\n",
    "    if(abs(l - d) < .001):\n",
    "        factT = .349109 + 6.00940 * S + .047467 * S**2\n",
    "    elif(abs(l/d - .5) < .001):\n",
    "        factT = .394552 + 6.392527 * S - .036013 * S**2\n",
    "    elif(abs(l/d - .25) < .001):\n",
    "        factT = .933828 + 6.437512 * S - .011048 * S**2\n",
    "    else: \n",
    "        if(echo): print(\"Interpolated Temp Factor\") # Reference EQ 12-16\n",
    "\n",
    "        yinf = TempFactorINF(S = S, mu = mu, N = N, p = p, r = r, c = c)\n",
    "        c_yinf = -1/8 * (1 - l/d) * (1 - 2 * l/d) * (1 - 4 * l/d)\n",
    "\n",
    "        y1 = TempFactor(S = S, l = 1, d = 1)\n",
    "        c_y1 = 1/3 * (1 - 2 * l/d) * (1 - 4 * l/d)\n",
    "\n",
    "        y12 = TempFactor(S = S, l = 1, d = 2)\n",
    "        c_y12 = -1 /  4 * (1 - l/d) * (1 - 4 * l/d)\n",
    "        \n",
    "        y14 = TempFactor(S = S, l = 1, d = 4)\n",
    "        c_y14 = 1 / 24 * (1 - l/d) * (1 - 2 * l/d)\n",
    "\n",
    "        #factT = (l/d)**(-3) * (c_yinf * yinf + c_y1 * y1 + c_y12 * y12 + c_y14 * y14)     \n",
    "        facT = None\n",
    "    \n",
    "    if (echo): print(\"Temp Factor: \" + str(factT))\n",
    "    return(factT)\n",
    "\n",
    "# Interchange between Metric and Imperial. \"Metric\" is if the input is Celsius to begin with, and will convert to F\n",
    "def ConvertTemp(Temp, Metric = False):\n",
    "    if (Metric):\n",
    "        return (Temp * 9/5) + 32\n",
    "    else:\n",
    "        return (Temp - 32) * 5/9\n"
   ]
  },
  {
   "cell_type": "code",
   "execution_count": 127,
   "metadata": {},
   "outputs": [],
   "source": [
    "# -- Natural Journal Function Definition -- \n",
    "# Grade = Oil Grade, as a String (\"10W-40\") for \n",
    "def NaturalJournal(Grade, Tout_guess, T_in, load, rpm, l, r, c, convergence = 0.1, Metric = False):\n",
    "    p = load / (2 * r * l)\n",
    "    rps = rpm /60 \n",
    "\n",
    "    Tavg_guess = (T_in + Tout_guess)/2\n",
    "\n",
    "    # Determining if it needs to be parsed as interpolated or Seireg for calculating mu\n",
    "\n",
    "    if(isinstance(Grade, str)): \n",
    "        try: \n",
    "            mu_guess = Visc_SAE_Inter(Temp = Tavg_guess, Grade = Grade, Metric = Metric)\n",
    "            method = \"Inter\"\n",
    "        except: print(\"Likely could not Parse Grade\")\n",
    "    if(isinstance(Grade, int)):\n",
    "        try: \n",
    "            mu_guess = Visc_SAE_Seireg(Temp = Tavg_guess, Grade = Grade, Metric = Metric)\n",
    "            method = \"Seireg\"\n",
    "        except: print(\"Likely could not Parse Grade\")\n",
    "    \n",
    "    S_guess = Sommerfeld(mu = mu_guess, r = r, c = c, N = rps, p = p)\n",
    "    delT_guess = TempDelta(Tval = TempFactor(S = S_guess, l = l, d = 2*r, mu = mu_guess, N = rps, p = p, c = c), p = p)\n",
    "\n",
    "    error = convergence*1.1 # Throwaway to run while loop\n",
    "    n = 0\n",
    "    while error > convergence:\n",
    "        \n",
    "        # Keeping track of iterative values\n",
    "        Tavg_prev = Tavg_guess\n",
    "        mu_prev = mu_guess\n",
    "        S_prev = S_guess\n",
    "        delT_prev = delT_guess\n",
    "        n = n+1\n",
    "        \n",
    "        Tout_guess = T_in + delT_guess\n",
    "        Tavg_guess = T_in + delT_guess/2\n",
    "        match method:\n",
    "            case \"Inter\": mu_guess = Visc_SAE_Inter(Temp = Tavg_guess, Grade = Grade, Metric = Metric)\n",
    "            case \"Seireg\": mu_guess = Visc_SAE_Seireg(Temp = Tavg_guess, Grade = Grade, Metric = Metric)\n",
    "        S_guess = Sommerfeld(mu = mu_guess, r = r, c = c, N = rps, p = p)\n",
    "        delT_guess = TempDelta(Tval = TempFactor(S = S_guess, l = l, d = 2*r, mu = mu_guess, N = rps, p = p_psi, c = c), p = p)\n",
    "\n",
    "        error = abs(delT_guess - delT_prev)\n",
    "\n",
    "    print(\"Converged on Iteration:\" + '\\t' + str(n))\n",
    "    print(\"Sommerfeld:\" + '\\t' + str(S_guess))\n",
    "    print(\"Outlet Temperature:\" + '\\t' + str(T_in + delT_guess))\n",
    "    return(S_guess, T_in + delT_guess)\n"
   ]
  },
  {
   "cell_type": "markdown",
   "metadata": {},
   "source": [
    "# EMAE370 Chapter 12: Journal Bearings"
   ]
  },
  {
   "cell_type": "markdown",
   "metadata": {},
   "source": [
    "## Iterative Approach"
   ]
  },
  {
   "cell_type": "code",
   "execution_count": 191,
   "metadata": {},
   "outputs": [
    {
     "name": "stdout",
     "output_type": "stream",
     "text": [
      "Pressure (psi): 34.72222222222222\n"
     ]
    }
   ],
   "source": [
    "Grd = 30 #SAE30\n",
    "\n",
    "load_lbf = 10E3\n",
    "rpm = 900\n",
    "Tin_degF = 180\n",
    "\n",
    "l_in = 12\n",
    "r_in = 12\n",
    "\n",
    "p_psi = load_lbf / (2*r_in * l_in)\n",
    "\n",
    "c = r_in*2/1000\n",
    "\n",
    "rps = 900 / 60\n",
    "\n",
    "Tout_guess = 205\n",
    "Tavg_guess = (180+205)/2\n",
    "\n",
    "print(\"Pressure (psi): \" + str(p_psi))"
   ]
  },
  {
   "cell_type": "code",
   "execution_count": 171,
   "metadata": {},
   "outputs": [
    {
     "name": "stdout",
     "output_type": "stream",
     "text": [
      "0.024\n"
     ]
    }
   ],
   "source": [
    "Tavg_guess\n",
    "print(c)"
   ]
  },
  {
   "cell_type": "code",
   "execution_count": 196,
   "metadata": {},
   "outputs": [
    {
     "name": "stdout",
     "output_type": "stream",
     "text": [
      "Converged on Iteration:\t2\n",
      "Sommerfeld:\t0.20274919171300873\n",
      "Outlet Temperature:\t186.0465037493159\n"
     ]
    },
    {
     "data": {
      "text/plain": [
       "(0.20274919171300873, 186.0465037493159)"
      ]
     },
     "execution_count": 196,
     "metadata": {},
     "output_type": "execute_result"
    }
   ],
   "source": [
    "NaturalJournal(Grade = Grd, Tout_guess = 205, T_in = Tin_degF, load = load_lbf, rpm = rpm, l = l_in, r = r_in, c = c)\n"
   ]
  },
  {
   "cell_type": "code",
   "execution_count": 195,
   "metadata": {},
   "outputs": [
    {
     "name": "stdout",
     "output_type": "stream",
     "text": [
      "1.4968389405746452\n",
      "5.358100445928713\n"
     ]
    }
   ],
   "source": [
    "\n",
    "mu = Visc_SAE_Seireg(Temp = (180+205)/2, Grade = 30, Metric = False)\n",
    "#print(mu)\n",
    "#mu = Visc_SAE_Inter(Temp = (180+205)/2, Grade = \"30\", Metric = False)\n",
    "S_guess = Sommerfeld(mu = mu, r = r_in, c = c, N = rps, p = p_psi)\n",
    "print(S_guess)\n",
    "delT_g = TempDelta(Tval = TempFactor(S = S_guess, l = l_in, d = r_in*2, mu = mu, N = rps, p = p_psi, c =c), p = p_psi)\n",
    "#print(TempFactor(S = S_guess, l = l_in, d = r_in*2, mu = mu, N = rps, p = p_psi, c =c))\n",
    "#print(delT_g)"
   ]
  },
  {
   "cell_type": "code",
   "execution_count": 43,
   "metadata": {},
   "outputs": [
    {
     "data": {
      "text/plain": [
       "0.01917794557420184"
      ]
     },
     "execution_count": 43,
     "metadata": {},
     "output_type": "execute_result"
    }
   ],
   "source": [
    "mu = 1.5981621311834866e-06\n",
    "r = 4\n",
    "c = 0.008\n",
    "N = 15\n",
    "p = 312.5\n",
    "(r/c)**2 * mu * N / p\n",
    "#Sommerfeld(mu= 1.5981621311834866e-06, r = 4, c = .008, N = 15, p = 312.5)"
   ]
  },
  {
   "cell_type": "code",
   "execution_count": null,
   "metadata": {},
   "outputs": [],
   "source": []
  },
  {
   "cell_type": "code",
   "execution_count": null,
   "metadata": {},
   "outputs": [],
   "source": [
    "# Guess Temperature\n",
    "Tout_g = 205\n",
    "Tavg_g = (Tin_degF + Tout_g)/2\n",
    "print(\"Guess Film Average Temp, degF: \" + str(Tavg_g))"
   ]
  },
  {
   "cell_type": "code",
   "execution_count": null,
   "metadata": {},
   "outputs": [],
   "source": [
    "Tout = Tout_g\n",
    "\n",
    "error = 1.1 # throwaway value\n",
    "firstIterFlag = True\n",
    "convergence_res = .1 # deg F\n",
    "n = 1\n",
    "while error > convergence_res:\n",
    "    if firstIterFlag:   \n",
    "        Tavg = (Tin_degF + Tout)/2\n",
    "        mu = Visc_SAE_Seireg(Temp = Tavg, Grade = Grd, Metric = False)\n",
    "        print(\"Viscosity: \" + str(mu))\n",
    "        S = Sommerfeld(mu = mu, r = r_in, c = c, N = rps, p = p_psi)\n",
    "        delT = TempDelta(Tval = TempFactor(S = S, l = l_in, d = 2*r_in), p = p_psi, iter = n)\n",
    "        firstIterFlag = False\n",
    "    \n",
    "    n = n+1\n",
    "    # Storing for comparison to exit while loop\n",
    "    Tavg_prev = Tavg\n",
    "    mu_prev = mu \n",
    "    S_prev = S \n",
    "    delT_prev = delT \n",
    "\n",
    "    Tout = Tin_degF + delT \n",
    "    Tavg = Tin_degF + delT/2\n",
    "    mu = Visc_SAE_Seireg(Temp = Tavg, Grade = Grd, Metric = False)\n",
    "    S = Sommerfeld(mu = mu, r = r_in, c = c, N = rps, p = p_psi)\n",
    "    delT = TempDelta(Tval = TempFactor(S = S, l = l_in, d = 2*r_in), p = p_psi, iter = n)\n",
    "\n",
    "    error = abs(delT - delT_prev) \n",
    "    if (error <= convergence_res):\n",
    "        print(\"S ~ last iteration Sommerfeld: \" + str(S) + '\\n' + \"Tout ~ last iteration Temp: \" + str(Tin_degF + delT))\n",
    "        output = (S, Tin_degF + delT)\n",
    "\n"
   ]
  },
  {
   "cell_type": "markdown",
   "metadata": {},
   "source": [
    "## Manual Approach"
   ]
  },
  {
   "cell_type": "code",
   "execution_count": 174,
   "metadata": {},
   "outputs": [
    {
     "name": "stdout",
     "output_type": "stream",
     "text": [
      "Pressure (psi): 34.72222222222222\n"
     ]
    }
   ],
   "source": [
    "## SAE 30\n",
    "\n",
    "load_lbf = 10E3\n",
    "rpm = 900\n",
    "Tin_degF = 180\n",
    "\n",
    "l_in = 12\n",
    "r_in = 12\n",
    "\n",
    "# --- #\n",
    "\n",
    "p_psi = load_lbf / (2*r_in * l_in)\n",
    "\n",
    "c = r_in*2/1000\n",
    "rps = 900 / 60\n",
    "\n",
    "print(\"Pressure (psi): \" + str(p_psi))"
   ]
  },
  {
   "cell_type": "code",
   "execution_count": 175,
   "metadata": {},
   "outputs": [
    {
     "name": "stdout",
     "output_type": "stream",
     "text": [
      "Guess Film Average Temp, degF: 192.5\n"
     ]
    }
   ],
   "source": [
    "Tout_1 = 205\n",
    "Tavg_1 = (Tin_degF + Tout_1)/2\n",
    "print(\"Guess Film Average Temp, degF: \" + str(Tavg_1))"
   ]
  },
  {
   "cell_type": "code",
   "execution_count": 176,
   "metadata": {},
   "outputs": [],
   "source": [
    "mu_1 = 1.4E-6"
   ]
  },
  {
   "cell_type": "code",
   "execution_count": 185,
   "metadata": {},
   "outputs": [
    {
     "name": "stdout",
     "output_type": "stream",
     "text": [
      "0.1512\n"
     ]
    }
   ],
   "source": [
    "S_1 = Sommerfeld(mu = mu_1, r = r_in, c = c, N = rps, p = p_psi)\n",
    "print(S_1)"
   ]
  },
  {
   "cell_type": "code",
   "execution_count": 188,
   "metadata": {},
   "outputs": [
    {
     "name": "stdout",
     "output_type": "stream",
     "text": [
      "Temperature Delta (1): 393599182.1068519\n",
      "393599362.1068519\n"
     ]
    }
   ],
   "source": [
    "delT_1 = TempDelta(Tval = TempFactor(S = S_1, l = l_in, d = 2*r_in), p = p_psi, iter = 1)\n",
    "\n",
    "T_2 = Tin_degF + delT_1\n",
    "print(T_2)"
   ]
  },
  {
   "cell_type": "code",
   "execution_count": null,
   "metadata": {},
   "outputs": [],
   "source": [
    "Tavg_2 =  Tin_degF + delT_1/2\n",
    "print(\"Guess Film Average Temp, degF: \" + str(Tavg_2))"
   ]
  },
  {
   "cell_type": "code",
   "execution_count": null,
   "metadata": {},
   "outputs": [],
   "source": [
    "mu_2 = 1.8E-6\n",
    "S_2 = Sommerfeld(mu = mu_2, r = r_in, c = c, N = rps, p = p_psi)\n",
    "delT_2 = TempDelta(Tval = TempFactor(S = S_2, l = l_in, d = 2*r_in), p = p_psi, iter = 2)\n",
    "T_3 = Tin_degF + delT_2\n",
    "print(T_3)"
   ]
  },
  {
   "cell_type": "code",
   "execution_count": null,
   "metadata": {},
   "outputs": [],
   "source": [
    "Tavg_3 =  Tin_degF + delT_2/2\n",
    "print(\"Guess Film Average Temp, degF: \" + str(Tavg_3))"
   ]
  },
  {
   "cell_type": "code",
   "execution_count": null,
   "metadata": {},
   "outputs": [],
   "source": [
    "mu_3 = 1.8E-6\n",
    "S_3 = Sommerfeld(mu = mu_3, r = r_in, c = c, N = rps, p = p_psi)\n",
    "delT_3 = TempDelta(Tval = TempFactor(S = S_3, l = l_in, d = 2*r_in), p = p_psi, iter = 3)\n",
    "T_4 = Tin_degF + delT_3"
   ]
  },
  {
   "cell_type": "code",
   "execution_count": null,
   "metadata": {},
   "outputs": [],
   "source": [
    "Tout = Tin_degF + delT_3\n",
    "print(Tout)"
   ]
  },
  {
   "cell_type": "code",
   "execution_count": null,
   "metadata": {},
   "outputs": [],
   "source": [
    "h_0 = c * .8\n",
    "print(\"h_0: \" + str(h_0))\n",
    "f = c/r_in * 1.4\n",
    "print(\"f: \" + str(f))\n",
    "Q = 5.85 * r_in * c * rps * l_in\n",
    "print(\"Qfull: \" + str(Q))\n",
    "Qs = .94 * Q \n",
    "print(\"Side Flow Qs: \" + str(Qs))\n"
   ]
  }
 ],
 "metadata": {
  "kernelspec": {
   "display_name": "Python 3",
   "language": "python",
   "name": "python3"
  },
  "language_info": {
   "codemirror_mode": {
    "name": "ipython",
    "version": 3
   },
   "file_extension": ".py",
   "mimetype": "text/x-python",
   "name": "python",
   "nbconvert_exporter": "python",
   "pygments_lexer": "ipython3",
   "version": "3.11.3"
  }
 },
 "nbformat": 4,
 "nbformat_minor": 2
}
