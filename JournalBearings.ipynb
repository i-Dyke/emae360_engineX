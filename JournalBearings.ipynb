{
 "cells": [
  {
   "cell_type": "code",
   "execution_count": 1,
   "metadata": {},
   "outputs": [],
   "source": [
    "import numpy as np"
   ]
  },
  {
   "cell_type": "markdown",
   "metadata": {},
   "source": [
    "## Chapter 12: Journal Bearings"
   ]
  },
  {
   "cell_type": "code",
   "execution_count": 115,
   "metadata": {},
   "outputs": [],
   "source": [
    "def Sommerfeld(mu, r, c, N, p):\n",
    "    S = (r/c)**2 * mu * N / p \n",
    "    print(\"Sommerfeld #: \" + str(S))\n",
    "    return S \n",
    "\n",
    "def TempDelta(Tval, p, iter = 0):\n",
    "    delT = Tval * p / 9.7 # for Imperial\n",
    "    print(\"Temperature Delta (\" + str(iter) + \"): \" + str(delT))\n",
    "    return delT\n",
    "\n",
    "def TempFactor(S, l, d):\n",
    "    if(abs(l - d) < .001):\n",
    "        factT = .349109 + 6.00940 * S + .047467 * S**2\n",
    "    elif(abs(l/d - .5) < .001):\n",
    "        factT = .394552 + 6.392527 * S - .036013 * S**2\n",
    "    elif(abs(l/d - .25) < .001):\n",
    "        factT = .933828 + 6.437512 * S - .011048 * S**2\n",
    "    else: \n",
    "        factT = NULL\n",
    "    print(\"Temp Factor: \" + str(factT))\n",
    "    return(factT)\n",
    "    \n"
   ]
  },
  {
   "cell_type": "code",
   "execution_count": 122,
   "metadata": {},
   "outputs": [
    {
     "name": "stdout",
     "output_type": "stream",
     "text": [
      "Pressure (psi): 312.5\n"
     ]
    }
   ],
   "source": [
    "## SAE 30\n",
    "\n",
    "load_lbf = 10E3\n",
    "\n",
    "rpm = 900\n",
    "\n",
    "Tin_degF = 180\n",
    "\n",
    "l_in = 4\n",
    "r_in = 4\n",
    "\n",
    "# --- #\n",
    "\n",
    "p_psi = load_lbf / (2*r_in * l_in)\n",
    "\n",
    "c = .008\n",
    "\n",
    "rps = 900 / 60\n",
    "\n",
    "print(\"Pressure (psi): \" + str(p_psi))"
   ]
  },
  {
   "cell_type": "code",
   "execution_count": 123,
   "metadata": {},
   "outputs": [
    {
     "name": "stdout",
     "output_type": "stream",
     "text": [
      "Guess Film Average Temp, degF: 192.5\n"
     ]
    }
   ],
   "source": [
    "Tout_1 = 205\n",
    "Tavg_1 = (Tin_degF + Tout_1)/2\n",
    "print(\"Guess Film Average Temp, degF: \" + str(Tavg_1))"
   ]
  },
  {
   "cell_type": "code",
   "execution_count": 124,
   "metadata": {},
   "outputs": [],
   "source": [
    "mu_1 = 1.4E-6"
   ]
  },
  {
   "cell_type": "code",
   "execution_count": 125,
   "metadata": {},
   "outputs": [
    {
     "name": "stdout",
     "output_type": "stream",
     "text": [
      "Sommerfeld #: 0.0168\n"
     ]
    }
   ],
   "source": [
    "S_1 = Sommerfeld(mu = mu_1, r = r_in, c = c, N = rps, p = p_psi)"
   ]
  },
  {
   "cell_type": "code",
   "execution_count": 126,
   "metadata": {},
   "outputs": [
    {
     "name": "stdout",
     "output_type": "stream",
     "text": [
      "Temp Factor: 0.50193628929088\n",
      "Temperature Delta (1): 16.170627876639177\n",
      "196.17062787663917\n"
     ]
    }
   ],
   "source": [
    "delT_1 = TempDelta(Tval = TempFactor(S = S_1, l = l_in, d = 2*r_in), p = p_psi, iter = 1)\n",
    "\n",
    "T_2 = Tin_degF + delT_1\n",
    "print(T_2)"
   ]
  },
  {
   "cell_type": "code",
   "execution_count": 127,
   "metadata": {},
   "outputs": [
    {
     "name": "stdout",
     "output_type": "stream",
     "text": [
      "Guess Film Average Temp, degF: 188.0853139383196\n"
     ]
    }
   ],
   "source": [
    "Tavg_2 =  Tin_degF + delT_1/2\n",
    "print(\"Guess Film Average Temp, degF: \" + str(Tavg_2))"
   ]
  },
  {
   "cell_type": "code",
   "execution_count": 128,
   "metadata": {},
   "outputs": [
    {
     "name": "stdout",
     "output_type": "stream",
     "text": [
      "Sommerfeld #: 0.021599999999999998\n",
      "Temp Factor: 0.53261378097472\n",
      "Temperature Delta (2): 17.158949129340208\n",
      "197.15894912934021\n"
     ]
    }
   ],
   "source": [
    "mu_2 = 1.8E-6\n",
    "S_2 = Sommerfeld(mu = mu_2, r = r_in, c = c, N = rps, p = p_psi)\n",
    "delT_2 = TempDelta(Tval = TempFactor(S = S_2, l = l_in, d = 2*r_in), p = p_psi, iter = 2)\n",
    "T_3 = Tin_degF + delT_2\n",
    "print(T_3)"
   ]
  },
  {
   "cell_type": "code",
   "execution_count": 129,
   "metadata": {},
   "outputs": [
    {
     "name": "stdout",
     "output_type": "stream",
     "text": [
      "Guess Film Average Temp, degF: 188.5794745646701\n"
     ]
    }
   ],
   "source": [
    "Tavg_3 =  Tin_degF + delT_2/2\n",
    "print(\"Guess Film Average Temp, degF: \" + str(Tavg_3))"
   ]
  },
  {
   "cell_type": "code",
   "execution_count": 130,
   "metadata": {},
   "outputs": [
    {
     "name": "stdout",
     "output_type": "stream",
     "text": [
      "Sommerfeld #: 0.021599999999999998\n",
      "Temp Factor: 0.53261378097472\n",
      "Temperature Delta (3): 17.158949129340208\n"
     ]
    }
   ],
   "source": [
    "mu_3 = 1.8E-6\n",
    "S_3 = Sommerfeld(mu = mu_3, r = r_in, c = c, N = rps, p = p_psi)\n",
    "delT_3 = TempDelta(Tval = TempFactor(S = S_3, l = l_in, d = 2*r_in), p = p_psi, iter = 3)\n",
    "T_4 = Tin_degF + delT_3"
   ]
  },
  {
   "cell_type": "code",
   "execution_count": 132,
   "metadata": {},
   "outputs": [
    {
     "name": "stdout",
     "output_type": "stream",
     "text": [
      "197.15894912934021\n"
     ]
    }
   ],
   "source": [
    "Tout = Tin_degF + delT_3\n",
    "print(Tout)"
   ]
  },
  {
   "cell_type": "code",
   "execution_count": 138,
   "metadata": {},
   "outputs": [
    {
     "name": "stdout",
     "output_type": "stream",
     "text": [
      "h_0: 0.0064\n",
      "f: 0.0028\n",
      "Qfull: 11.232000000000001\n",
      "Side Flow Qs: 10.55808\n"
     ]
    }
   ],
   "source": [
    "h_0 = c * .8\n",
    "print(\"h_0: \" + str(h_0))\n",
    "f = c/r_in * 1.4\n",
    "print(\"f: \" + str(f))\n",
    "Q = 5.85 * r_in * c * rps * l_in\n",
    "print(\"Qfull: \" + str(Q))\n",
    "Qs = .94 * Q \n",
    "print(\"Side Flow Qs: \" + str(Qs))\n"
   ]
  }
 ],
 "metadata": {
  "kernelspec": {
   "display_name": "Python 3",
   "language": "python",
   "name": "python3"
  },
  "language_info": {
   "codemirror_mode": {
    "name": "ipython",
    "version": 3
   },
   "file_extension": ".py",
   "mimetype": "text/x-python",
   "name": "python",
   "nbconvert_exporter": "python",
   "pygments_lexer": "ipython3",
   "version": "3.11.3"
  }
 },
 "nbformat": 4,
 "nbformat_minor": 2
}
