{
 "cells": [
  {
   "cell_type": "code",
   "execution_count": 24,
   "metadata": {},
   "outputs": [],
   "source": [
    "import numpy as np"
   ]
  },
  {
   "cell_type": "markdown",
   "metadata": {},
   "source": [
    "## Viscosity Functions\n",
    "From \"Fundamentals of Machine Component Design\" Section 12, pp 633-635\n",
    "Reference TBL12-1\n",
    "\n",
    "Note: \n",
    "\n",
    "(F-32)*5/9 = C\n",
    "\n",
    "6.89 * microreyn = milli-PascalSec  --> 6.89 * microreyn /1000 = PascalSec --> 6.89 * 1000 reyn = PascalSec"
   ]
  },
  {
   "cell_type": "code",
   "execution_count": 44,
   "metadata": {},
   "outputs": [],
   "source": [
    "# Idek what the fuck that scaling is on the plot. \n",
    "# Its like exponential scaling, which I have never even seen before.\n",
    "# It shows empiral formulas for the basic SAE oils tho\n",
    "def Visc_SAE_Seireg(Temp, Grade, Metric = False):\n",
    "    if (Metric):\n",
    "        Temp = (Temp * 9/5) + 32 # C to F\n",
    "    match Grade:\n",
    "        case 10:\n",
    "            m0 = 0.0158E-6\n",
    "            b = 1157.5\n",
    "        case 20:\n",
    "            m0 = 0.0136E-6\n",
    "            b = 1271.6\n",
    "        case 30:\n",
    "            m0 = 0.0141E-6\n",
    "            b = 1360.0\n",
    "        case 40:\n",
    "            m0 = 0.0121E-6\n",
    "            b = 1474.4\n",
    "        case 50:\n",
    "            m0 = 0.0170E-6\n",
    "            b = 1509.6\n",
    "        case 60:\n",
    "            m0 = 0.0187E-6\n",
    "            b = 1564.0\n",
    "    if (not Metric):\n",
    "        return m0 * np.e**(b / (Temp + 95))    \n",
    "    else:\n",
    "        return m0 * np.e**(b / (Temp + 95)) * 6.89 * 1000 # convert back to Metric\n",
    "\n",
    "# Exponential Fit of the Below Data Source, as found in the GDrive\n",
    "# https://wiki.anton-paar.com/us-en/engine-oil/\n",
    "def Visc_SAE_Inter(Temp, Grade, Metric = False):\n",
    "    match Grade:\n",
    "        case \"10W-40\":\n",
    "            if (Metric): mu = 6.61 * np.e**(-0.0484 * Temp)\n",
    "            else: mu = 2.27E-3 * np.e**(-0.0269 * Temp)\n",
    "        case \"30\":\n",
    "            if (Metric): mu = 18 * np.e**(-0.0708 * Temp)\n",
    "            else: mu = 9.18E-3 * np.e**(-0.0393 * Temp)\n",
    "    return mu\n",
    "\n",
    "            "
   ]
  },
  {
   "cell_type": "code",
   "execution_count": 53,
   "metadata": {},
   "outputs": [],
   "source": [
    "# Sommerfeld Calculation for Naturally Lubricated Journal Bearings\n",
    "def Sommerfeld(mu, r, c, N, p, echo = False):\n",
    "    S = (float(r)/float(c))**2 * float(mu) * float(N) / float(p) \n",
    "    if(echo): print(\"Sommerfeld #: \" + str(S))\n",
    "    return S \n",
    "\n",
    "# Calculation of temperature change via the Temperature Factor (see below)\n",
    "def TempDelta(Tval, p, iter = 0):\n",
    "    delT = Tval * p / 9.7 # for Imperial\n",
    "    if iter != 0:\n",
    "        print(\"Temperature Delta (\" + str(iter) + \"): \" + str(delT))    \n",
    "    return delT\n",
    "\n",
    "# Calculation of Temperature Factor for limited L/D ratio\n",
    "# TODO: Generalize for l/d ratios\n",
    "def TempFactor(S, l, d, echo = False):\n",
    "    if(abs(l - d) < .001):\n",
    "        factT = .349109 + 6.00940 * S + .047467 * S**2\n",
    "    elif(abs(l/d - .5) < .001):\n",
    "        factT = .394552 + 6.392527 * S - .036013 * S**2\n",
    "    elif(abs(l/d - .25) < .001):\n",
    "        factT = .933828 + 6.437512 * S - .011048 * S**2\n",
    "    else: \n",
    "        factT = NULL\n",
    "    if (echo): print(\"Temp Factor: \" + str(factT))\n",
    "    return(factT)\n",
    "\n",
    "# Interchange between Metric and Imperial. \"Metric\" is if the input is Celsius to begin with, and will convert to F\n",
    "def ConvertTemp(Temp, Metric = False):\n",
    "    if (Metric):\n",
    "        return (Temp * 9/5) + 32\n",
    "    else:\n",
    "        return (Temp - 32) * 5/9\n"
   ]
  },
  {
   "cell_type": "markdown",
   "metadata": {},
   "source": [
    "# EMAE370 Chapter 12: Journal Bearings"
   ]
  },
  {
   "cell_type": "markdown",
   "metadata": {},
   "source": [
    "## Iterative Approach"
   ]
  },
  {
   "cell_type": "code",
   "execution_count": 57,
   "metadata": {},
   "outputs": [
    {
     "name": "stdout",
     "output_type": "stream",
     "text": [
      "Pressure (psi): 312.5\n"
     ]
    }
   ],
   "source": [
    "Grd = 30 #SAE30\n",
    "\n",
    "load_lbf = 10E3\n",
    "rpm = 900\n",
    "Tin_degF = 180\n",
    "\n",
    "l_in = 4\n",
    "r_in = 4\n",
    "\n",
    "p_psi = load_lbf / (2*r_in * l_in)\n",
    "\n",
    "c = r_in*2/1000\n",
    "\n",
    "rps = 900 / 60\n",
    "\n",
    "print(\"Pressure (psi): \" + str(p_psi))"
   ]
  },
  {
   "cell_type": "code",
   "execution_count": 73,
   "metadata": {},
   "outputs": [],
   "source": [
    "# -- Natural Journal Function Definition -- \n",
    "# Grade = Oil Grade, as a String (\"10W-40\") for \n",
    "def NaturalJournal(Grade, Tout_guess, T_in, load, rpm, l, r, c, convergence = 0.1, Metric = False,):\n",
    "    p = load / (2 * r * l)\n",
    "    rps = rpm /60 \n",
    "\n",
    "    Tavg_guess = (T_in + Tout_guess)/2\n",
    "\n",
    "    # Determining if it needs to be parsed as interpolated or Seireg for calculating mu\n",
    "\n",
    "    if(isinstance(Grade, str)): \n",
    "        try: \n",
    "            mu_guess = Visc_SAE_Inter(Temp = Tavg_guess, Grade = Grade, Metric = Metric)\n",
    "            method = \"Inter\"\n",
    "        except: print(\"Likely could not Parse Grade\")\n",
    "    if(isinstance(Grade, int)):\n",
    "        try: \n",
    "            mu_guess = Visc_SAE_Seireg(Temp = Tavg_guess, Grade = Grade, Metric = Metric)\n",
    "            method = \"Seireg\"\n",
    "        except: print(\"Likely could not Parse Grade\")\n",
    "    \n",
    "    print(type(mu_guess))\n",
    "    print(type(r))\n",
    "    print(type(c))\n",
    "    print(type(rps))\n",
    "    print(type(p))\n",
    "    S_guess = Sommerfeld(mu = mu_guess, r = r, c = c, N = rps, p = p)\n",
    "    delT_guess = TempDelta(Tval = TempFactor(S = S_guess, l = l, d = 2*r), p = p)\n",
    "\n",
    "    error = convergence*1.1 # Throwaway to run while loop\n",
    "    n = 0\n",
    "    while error > convergence:\n",
    "        \n",
    "        # Keeping track of iterative values\n",
    "        Tavg_prev = Tavg_guess\n",
    "        mu_prev = mu_guess\n",
    "        S_prev = S_guess\n",
    "        delT_prev = delT_guess\n",
    "        n = n+1\n",
    "\n",
    "        Tout_guess = T_in + delT_guess\n",
    "        Tavg_guess = T_in + delT_guess/2\n",
    "        match method:\n",
    "            case \"Inter\": mu_guess = Visc_SAE_Inter(Temp = Tavg_guess, Grade = Grade, Metric = Metric)\n",
    "            case \"Seireg\": mu_guess = Visc_SAE_Seireg(Temp = Tavg_guess, Grade = Grade, Metric = Metric)\n",
    "        S_guess = Sommerfeld(mu = mu_guess, r = r, c = c, N = rps, p = p)\n",
    "        delT_guess = TempDelta(Tval = TempFactor(S = S_guess, l = l, d = 2*r), p = p)\n",
    "\n",
    "        error = abs(delT_guess - delT_prev)\n",
    "\n",
    "    print(\"Converged on Iteration:\" + '\\t' + str(n))\n",
    "    print(\"Sommerfeld:\" + '\\t' + str(S_guess))\n",
    "    print(\"Outlet Temperature:\" + '\\t' + str(T_in + delT_guess))\n",
    "    return(S_guess, T_in + delT_guess)\n"
   ]
  },
  {
   "cell_type": "code",
   "execution_count": 74,
   "metadata": {},
   "outputs": [
    {
     "name": "stdout",
     "output_type": "stream",
     "text": [
      "<class 'float'>\n",
      "<class 'int'>\n",
      "<class 'float'>\n",
      "<class 'float'>\n",
      "<class 'float'>\n",
      "Converged on Iteration:\t2\n",
      "Sommerfeld:\t0.02051117870129257\n",
      "Outlet Temperature:\t196.9347652279757\n"
     ]
    },
    {
     "data": {
      "text/plain": [
       "(0.02051117870129257, 196.9347652279757)"
      ]
     },
     "execution_count": 74,
     "metadata": {},
     "output_type": "execute_result"
    }
   ],
   "source": [
    "NaturalJournal(Grade = Grd, Tout_guess = 205, T_in = Tin_degF, load = load_lbf, rpm = rpm, l = l_in, r = r_in, c = c)\n"
   ]
  },
  {
   "cell_type": "code",
   "execution_count": 64,
   "metadata": {},
   "outputs": [
    {
     "name": "stdout",
     "output_type": "stream",
     "text": [
      "<class 'tuple'>\n"
     ]
    }
   ],
   "source": [
    "thistuple = (\"apple\",)\n",
    "print(type(thistuple))"
   ]
  },
  {
   "cell_type": "code",
   "execution_count": 43,
   "metadata": {},
   "outputs": [
    {
     "data": {
      "text/plain": [
       "0.01917794557420184"
      ]
     },
     "execution_count": 43,
     "metadata": {},
     "output_type": "execute_result"
    }
   ],
   "source": [
    "mu = 1.5981621311834866e-06\n",
    "r = 4\n",
    "c = 0.008\n",
    "N = 15\n",
    "p = 312.5\n",
    "(r/c)**2 * mu * N / p\n",
    "#Sommerfeld(mu= 1.5981621311834866e-06, r = 4, c = .008, N = 15, p = 312.5)"
   ]
  },
  {
   "cell_type": "code",
   "execution_count": null,
   "metadata": {},
   "outputs": [],
   "source": []
  },
  {
   "cell_type": "code",
   "execution_count": null,
   "metadata": {},
   "outputs": [],
   "source": [
    "# Guess Temperature\n",
    "Tout_g = 205\n",
    "Tavg_g = (Tin_degF + Tout_g)/2\n",
    "print(\"Guess Film Average Temp, degF: \" + str(Tavg_g))"
   ]
  },
  {
   "cell_type": "code",
   "execution_count": null,
   "metadata": {},
   "outputs": [],
   "source": [
    "Tout = Tout_g\n",
    "\n",
    "error = 1.1 # throwaway value\n",
    "firstIterFlag = True\n",
    "convergence_res = .1 # deg F\n",
    "n = 1\n",
    "while error > convergence_res:\n",
    "    if firstIterFlag:   \n",
    "        Tavg = (Tin_degF + Tout)/2\n",
    "        mu = Visc_SAE_Seireg(Temp = Tavg, Grade = Grd, Metric = False)\n",
    "        print(\"Viscosity: \" + str(mu))\n",
    "        S = Sommerfeld(mu = mu, r = r_in, c = c, N = rps, p = p_psi)\n",
    "        delT = TempDelta(Tval = TempFactor(S = S, l = l_in, d = 2*r_in), p = p_psi, iter = n)\n",
    "        firstIterFlag = False\n",
    "    \n",
    "    n = n+1\n",
    "    # Storing for comparison to exit while loop\n",
    "    Tavg_prev = Tavg\n",
    "    mu_prev = mu \n",
    "    S_prev = S \n",
    "    delT_prev = delT \n",
    "\n",
    "    Tout = Tin_degF + delT \n",
    "    Tavg = Tin_degF + delT/2\n",
    "    mu = Visc_SAE_Seireg(Temp = Tavg, Grade = Grd, Metric = False)\n",
    "    S = Sommerfeld(mu = mu, r = r_in, c = c, N = rps, p = p_psi)\n",
    "    delT = TempDelta(Tval = TempFactor(S = S, l = l_in, d = 2*r_in), p = p_psi, iter = n)\n",
    "\n",
    "    error = abs(delT - delT_prev) \n",
    "    if (error <= convergence_res):\n",
    "        print(\"S ~ last iteration Sommerfeld: \" + str(S) + '\\n' + \"Tout ~ last iteration Temp: \" + str(Tin_degF + delT))\n",
    "        output = (S, Tin_degF + delT)\n",
    "\n"
   ]
  },
  {
   "cell_type": "markdown",
   "metadata": {},
   "source": [
    "## Manual Approach"
   ]
  },
  {
   "cell_type": "code",
   "execution_count": null,
   "metadata": {},
   "outputs": [],
   "source": [
    "## SAE 30\n",
    "\n",
    "load_lbf = 10E3\n",
    "rpm = 900\n",
    "Tin_degF = 180\n",
    "\n",
    "l_in = 4\n",
    "r_in = 4\n",
    "\n",
    "# --- #\n",
    "\n",
    "p_psi = load_lbf / (2*r_in * l_in)\n",
    "\n",
    "c = .008\n",
    "\n",
    "rps = 900 / 60\n",
    "\n",
    "print(\"Pressure (psi): \" + str(p_psi))"
   ]
  },
  {
   "cell_type": "code",
   "execution_count": null,
   "metadata": {},
   "outputs": [],
   "source": [
    "Tout_1 = 205\n",
    "Tavg_1 = (Tin_degF + Tout_1)/2\n",
    "print(\"Guess Film Average Temp, degF: \" + str(Tavg_1))"
   ]
  },
  {
   "cell_type": "code",
   "execution_count": null,
   "metadata": {},
   "outputs": [],
   "source": [
    "mu_1 = 1.4E-6"
   ]
  },
  {
   "cell_type": "code",
   "execution_count": null,
   "metadata": {},
   "outputs": [],
   "source": [
    "S_1 = Sommerfeld(mu = mu_1, r = r_in, c = c, N = rps, p = p_psi)"
   ]
  },
  {
   "cell_type": "code",
   "execution_count": null,
   "metadata": {},
   "outputs": [],
   "source": [
    "delT_1 = TempDelta(Tval = TempFactor(S = S_1, l = l_in, d = 2*r_in), p = p_psi, iter = 1)\n",
    "\n",
    "T_2 = Tin_degF + delT_1\n",
    "print(T_2)"
   ]
  },
  {
   "cell_type": "code",
   "execution_count": null,
   "metadata": {},
   "outputs": [],
   "source": [
    "Tavg_2 =  Tin_degF + delT_1/2\n",
    "print(\"Guess Film Average Temp, degF: \" + str(Tavg_2))"
   ]
  },
  {
   "cell_type": "code",
   "execution_count": null,
   "metadata": {},
   "outputs": [],
   "source": [
    "mu_2 = 1.8E-6\n",
    "S_2 = Sommerfeld(mu = mu_2, r = r_in, c = c, N = rps, p = p_psi)\n",
    "delT_2 = TempDelta(Tval = TempFactor(S = S_2, l = l_in, d = 2*r_in), p = p_psi, iter = 2)\n",
    "T_3 = Tin_degF + delT_2\n",
    "print(T_3)"
   ]
  },
  {
   "cell_type": "code",
   "execution_count": null,
   "metadata": {},
   "outputs": [],
   "source": [
    "Tavg_3 =  Tin_degF + delT_2/2\n",
    "print(\"Guess Film Average Temp, degF: \" + str(Tavg_3))"
   ]
  },
  {
   "cell_type": "code",
   "execution_count": null,
   "metadata": {},
   "outputs": [],
   "source": [
    "mu_3 = 1.8E-6\n",
    "S_3 = Sommerfeld(mu = mu_3, r = r_in, c = c, N = rps, p = p_psi)\n",
    "delT_3 = TempDelta(Tval = TempFactor(S = S_3, l = l_in, d = 2*r_in), p = p_psi, iter = 3)\n",
    "T_4 = Tin_degF + delT_3"
   ]
  },
  {
   "cell_type": "code",
   "execution_count": null,
   "metadata": {},
   "outputs": [],
   "source": [
    "Tout = Tin_degF + delT_3\n",
    "print(Tout)"
   ]
  },
  {
   "cell_type": "code",
   "execution_count": null,
   "metadata": {},
   "outputs": [],
   "source": [
    "h_0 = c * .8\n",
    "print(\"h_0: \" + str(h_0))\n",
    "f = c/r_in * 1.4\n",
    "print(\"f: \" + str(f))\n",
    "Q = 5.85 * r_in * c * rps * l_in\n",
    "print(\"Qfull: \" + str(Q))\n",
    "Qs = .94 * Q \n",
    "print(\"Side Flow Qs: \" + str(Qs))\n"
   ]
  }
 ],
 "metadata": {
  "kernelspec": {
   "display_name": "Python 3",
   "language": "python",
   "name": "python3"
  },
  "language_info": {
   "codemirror_mode": {
    "name": "ipython",
    "version": 3
   },
   "file_extension": ".py",
   "mimetype": "text/x-python",
   "name": "python",
   "nbconvert_exporter": "python",
   "pygments_lexer": "ipython3",
   "version": "3.11.3"
  }
 },
 "nbformat": 4,
 "nbformat_minor": 2
}
