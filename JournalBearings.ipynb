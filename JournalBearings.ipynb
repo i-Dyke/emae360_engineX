{
 "cells": [
  {
   "cell_type": "markdown",
   "metadata": {},
   "source": [
    "### (Initializing)"
   ]
  },
  {
   "cell_type": "code",
   "execution_count": 2,
   "metadata": {},
   "outputs": [],
   "source": [
    "import numpy as np"
   ]
  },
  {
   "cell_type": "markdown",
   "metadata": {},
   "source": [
    "# Formulation of Functions\n",
    "From \"Fundamental of Machine Component Design\", Section 12\n",
    "\n",
    "Note: \n",
    "\n",
    "(F-32)*5/9 = C\n",
    "\n",
    "6.89 * microreyn = milli-PascalSec  --> 6.89 * microreyn /1000 = PascalSec --> 6.89 * 1000 reyn = PascalSec"
   ]
  },
  {
   "cell_type": "markdown",
   "metadata": {},
   "source": [
    "## Viscosity Functions\n",
    "From \"Fundamentals of Machine Component Design\" Section 12, pp 633-635\n",
    "Reference TBL12-1 and others in the section\n"
   ]
  },
  {
   "cell_type": "code",
   "execution_count": 43,
   "metadata": {},
   "outputs": [],
   "source": [
    "# It shows empiral formulas for the basic SAE oils per Seireg\n",
    "def Visc_SAE_Seireg(Temp, Grade, Metric = False):\n",
    "    if (Metric):\n",
    "        Temp = (Temp * 9/5) + 32 # C to F\n",
    "    match Grade:\n",
    "        case 10:\n",
    "            m0 = 0.0158E-6\n",
    "            b = 1157.5\n",
    "        case 20:\n",
    "            m0 = 0.0136E-6\n",
    "            b = 1271.6\n",
    "        case 30:\n",
    "            m0 = 0.0141E-6\n",
    "            b = 1360.0\n",
    "        case 40:\n",
    "            m0 = 0.0121E-6\n",
    "            b = 1474.4\n",
    "        case 50:\n",
    "            m0 = 0.0170E-6\n",
    "            b = 1509.6\n",
    "        case 60:\n",
    "            m0 = 0.0187E-6\n",
    "            b = 1564.0\n",
    "    if (not Metric):\n",
    "        return m0 * np.e**(b / (Temp + 95))    \n",
    "    else:\n",
    "        return m0 * np.e**(b / (Temp + 95)) * 6.89 * 1000 # convert back to Metric\n",
    "\n",
    "# Exponential Fit of the Below Data Source, as found in the GDrive\n",
    "# https://wiki.anton-paar.com/us-en/engine-oil/\n",
    "def Visc_SAE_Inter(Temp, Grade, Metric = False):\n",
    "    match Grade:\n",
    "        case \"30\":\n",
    "            if (Metric): mu = 243.9 * Temp**(-2.24)\n",
    "            else: mu = 119.4 * Temp**(-3.48)\n",
    "        case \"10W-40\":\n",
    "            if (Metric): \n",
    "                if(Temp > 10): # very inaccurate fit below this\n",
    "                    mu = 19.6 * Temp**(-1.56)\n",
    "                else: \n",
    "                    print(\"Outside of Interpolation acceptability range (Metric)\")\n",
    "                    return None\n",
    "            else: \n",
    "                if(Temp > 50): # very inaccurate fit below this\n",
    "                    mu = 0.348 * Temp**(-2.25)\n",
    "                else: \n",
    "                    print(\"Outside of Interpolation acceptability range (Imperial)\")\n",
    "                    return None\n",
    "    return mu\n",
    "\n",
    "            "
   ]
  },
  {
   "cell_type": "markdown",
   "metadata": {},
   "source": [
    "## Factors & Coefficients\n",
    "Sommerfeld#, Friction and Flow Factors, Temperature Factors & Delta"
   ]
  },
  {
   "cell_type": "code",
   "execution_count": 44,
   "metadata": {},
   "outputs": [],
   "source": [
    "# Interchange between Metric and Imperial. \"Metric\" is if the input is Celsius to begin with, and will convert to F\n",
    "def ConvertTemp(Temp, Metric = False):\n",
    "    if (Metric):\n",
    "        return (Temp * 9/5) + 32\n",
    "    else:\n",
    "        return (Temp - 32) * 5/9"
   ]
  },
  {
   "cell_type": "code",
   "execution_count": 45,
   "metadata": {},
   "outputs": [],
   "source": [
    "# Sommerfeld Calculation for Naturally Lubricated Journal Bearings\n",
    "def Sommerfeld(mu, r, c, N, p, echo = False):\n",
    "    S = (float(r)/float(c))**2 * mu * float(N) / float(p) \n",
    "    if(echo): print(\"Sommerfeld #: \" + str(S))\n",
    "    return S "
   ]
  },
  {
   "cell_type": "code",
   "execution_count": 46,
   "metadata": {},
   "outputs": [],
   "source": [
    "# Calculation of temperature change via the Temperature Factor (see below)\n",
    "def TempDelta(Tval, p, Metric = False, iter = 0):\n",
    "    if (Metric): delT = Tval * p / 0.120 * 1E-6 # for Metric\n",
    "    else: delT = Tval * p / 9.7 # for Imperial\n",
    "\n",
    "    if iter != 0:\n",
    "        print(\"Temperature Delta (\" + str(iter) + \"): \" + str(delT))    \n",
    "    return delT"
   ]
  },
  {
   "cell_type": "markdown",
   "metadata": {},
   "source": [
    "### Friction Factor Interpolating Function"
   ]
  },
  {
   "cell_type": "code",
   "execution_count": 47,
   "metadata": {},
   "outputs": [],
   "source": [
    "# Frictional Coefficent r/c * f calculation\n",
    "#   Polynomial Fit to readings from Fig 12-18. \n",
    "#   4th order chosen for Infinite Case\n",
    "#   Length l need not be provided for infinite case\n",
    "def FricFactor(S, mu, N, p, r, c, l = None, inf = True, echo = True):\n",
    "    d = 2*r\n",
    "    if (inf):\n",
    "        if (S > 0.5): \n",
    "            if (echo): \n",
    "                print(\"Petroff's Equation for Extrapolation\")\n",
    "            f = 2 * np.pi**2 * mu * N / P * r \n",
    "        else:\n",
    "            A = 0.407\n",
    "            B = 22.7\n",
    "            C = -86.8\n",
    "            D = 310\n",
    "            E = -310\n",
    "            f = A + B * S + C * S**2 + D * S**3 + E * S**4\n",
    "    elif (abs(l - d) < .001): #L/D = 1\n",
    "        if (S < .05):\n",
    "            A = .0797\n",
    "            B = 92.3\n",
    "            C = -2798\n",
    "            D = 47909\n",
    "            E = -300641\n",
    "            f = A + B * S + C * S**2 + D * S**3 + E * S**4\n",
    "        elif (S < 1):\n",
    "            A = .567\n",
    "            B = 21.9\n",
    "            C = -10.3\n",
    "            D = 9.17\n",
    "            E = -2.41\n",
    "            f = A + B * S + C * S**2 + D * S**3 + E * S**4\n",
    "        else:\n",
    "            if (echo): \n",
    "                print(\"Petroff's Equation for Extrapolation\")\n",
    "            f = 2 * np.pi**2 * mu * N / P * r \n",
    "    elif (abs(l/d - 1/2) < .001): # L/D = 1/2\n",
    "        if (S < .025): # Rsqr = .998 for S = .002 -> .035 \n",
    "            A = .159\n",
    "            B = 67\n",
    "            C = 1103\n",
    "            D = -122837\n",
    "            E = 2.14E6\n",
    "            f = A + B * S + C * S**2 + D * S**3 + E * S**4\n",
    "        elif (S < 1):# Rsqr = 1 for S = .002 -> 1.2\n",
    "            A = .555\n",
    "            B = 31.7\n",
    "            C = -37.2\n",
    "            D = 41.1\n",
    "            E = -15.4\n",
    "            f = A + B * S + C * S**2 + D * S**3 + E * S**4\n",
    "        else:\n",
    "            if (echo): print(\"Petroff's Equation for Extrapolation\")\n",
    "            f = 2 * np.pi**2 * mu * N / P * r\n",
    "    elif (abs(l/d - 1/4) < .001): # L/D = 1/4\n",
    "        if (S < .03): # Rsqr = .999 for S = .002 -> 0.035\n",
    "            A = .0224\n",
    "            B = 117\n",
    "            C = -3389\n",
    "            D = 56915\n",
    "            E = -259109\n",
    "            f = A + B * S + C * S**2 + D * S**3 + E * S**4\n",
    "        elif (S < 4): #Rsqr = 1 for S = .002 ->  4\n",
    "            A = .805\n",
    "            B = 30\n",
    "            C = -10.1\n",
    "            D = 3.52\n",
    "            E = -.425\n",
    "            f = A + B * S + C * S**2 + D * S**3 + E * S**4\n",
    "        else:\n",
    "            if (echo): \n",
    "                print(\"Petroff's Equation for Extrapolation\")\n",
    "            f = 2 * np.pi**2 * mu * N / P * r \n",
    "    else: # interpolation formula\n",
    "        if(echo): print(\"Interpolated Friction Factor\") # Reference EQ 12-16\n",
    "\n",
    "        yinf = FricFactor(S = S, mu = mu, N = N, p = p, r = r, c = c, inf = True)\n",
    "        c_yinf = -1/8 * (1 - l/d) * (1 - 2 * l/d) * (1 - 4 * l/d)\n",
    "\n",
    "        y1 = FricFactor(S = S, mu = mu, N = N, p = p, r = r, c = c, l = d)\n",
    "        c_y1 = 1/3 * (1 - 2 * l/d) * (1 - 4 * l/d)\n",
    "\n",
    "        y12 = FricFactor(S = S, mu = mu, N = N, p = p, r = r, c = c, l = d/2)\n",
    "        c_y12 = -1 /  4 * (1 - l/d) * (1 - 4 * l/d)\n",
    "        \n",
    "        y14 = FricFactor(S = S, mu = mu, N = N, p = p, r = r, c = c, l = d/4)\n",
    "        c_y14 = 1 / 24 * (1 - l/d) * (1 - 2 * l/d)\n",
    "\n",
    "        f = (l/d)**(-3) * (c_yinf * yinf + c_y1 * y1 + c_y12 * y12 + c_y14 * y14)      \n",
    "    return f  "
   ]
  },
  {
   "cell_type": "markdown",
   "metadata": {},
   "source": [
    "### Temp Factor Interpolating Function"
   ]
  },
  {
   "cell_type": "code",
   "execution_count": 48,
   "metadata": {},
   "outputs": [],
   "source": [
    "\n",
    "# Temperature Factor Evaluation for Infinite L/D ratio only\n",
    "#   Simplification of formula 12-15\n",
    "def TempFactorINF(S, mu, N, p, r, c):\n",
    "    frc = FricFactor(S = S, mu = mu, N = N, p = p, r = r, c = c, inf = True, echo = True)\n",
    "    Qrcnl = FlowFactor(S = S, inf = True)\n",
    "    return frc / Qrcnl\n",
    "\n",
    "# Calculation of Temperature Factor for limited L/D ratio\n",
    "#   Reference Fig 12-24, EQN 12-16\n",
    "#   Requires inputs to mu, N, p, c to do interpolation\n",
    "def TempFactor(S, l, d, mu = None, N = None, p = None, c = None, echo = False):\n",
    "    r = d / 2\n",
    "    if(abs(l - d) < .001):\n",
    "        factT = .349109 + 6.00940 * S + .047467 * S**2\n",
    "    elif(abs(l/d - .5) < .001):\n",
    "        factT = .394552 + 6.392527 * S - .036013 * S**2\n",
    "    elif(abs(l/d - .25) < .001):\n",
    "        factT = .933828 + 6.437512 * S - .011048 * S**2\n",
    "    else: \n",
    "        if(echo): print(\"Interpolated Temp Factor\") # Reference EQ 12-16\n",
    "\n",
    "        yinf = TempFactorINF(S = S, mu = mu, N = N, p = p, r = r, c = c)\n",
    "        c_yinf = -1/8 * (1 - l/d) * (1 - 2 * l/d) * (1 - 4 * l/d)\n",
    "\n",
    "        y1 = TempFactor(S = S, l = 1, d = 1)\n",
    "        c_y1 = 1/3 * (1 - 2 * l/d) * (1 - 4 * l/d)\n",
    "\n",
    "        y12 = TempFactor(S = S, l = 1, d = 2)\n",
    "        c_y12 = -1 /  4 * (1 - l/d) * (1 - 4 * l/d)\n",
    "        \n",
    "        y14 = TempFactor(S = S, l = 1, d = 4)\n",
    "        c_y14 = 1 / 24 * (1 - l/d) * (1 - 2 * l/d)\n",
    "\n",
    "        factT = (l/d)**(-3) * (c_yinf * yinf + c_y1 * y1 + c_y12 * y12 + c_y14 * y14)     \n",
    "            \n",
    "    if (echo): print(\"Temp Factor: \" + str(factT))\n",
    "    return(factT)"
   ]
  },
  {
   "cell_type": "markdown",
   "metadata": {},
   "source": [
    "### Film Thickness Interpolating Function"
   ]
  },
  {
   "cell_type": "code",
   "execution_count": 49,
   "metadata": {},
   "outputs": [],
   "source": [
    "\n",
    "# Normalized Minimum Film Thickness h0/c\n",
    "#   Unitary inverse of Epsilon, eps = e/c for h0 = c - e ~~ h0/c = 1 - e/c ~~ (1 - h0/c) = eps\n",
    "#   Alternatives: Infinite case by boolean, or else needing l & r for l/d ratio\n",
    "#       l/d ratio not of given ratios 1, 1/2, 1/4 will be interpolated by EQ 12-16\n",
    "def FilmThickness(S, r = None, l = None, inf = True, eps = False):\n",
    "    d = 2*r\n",
    "    if (inf):\n",
    "        if (S < .002):\n",
    "            print(\"Error in Thickness: Out of Graph Range\")\n",
    "            h = None\n",
    "        elif (S < 0.1): #R^2 = .999 for S = 0.002 -> 0.4\n",
    "            A = -.0303\n",
    "            B = 13.7\n",
    "            C = -78.2\n",
    "            D = 199\n",
    "            E = -185\n",
    "            h = A + B * S + C * S**2 + D * S**3 + E * S**4\n",
    "        elif (S < 0.5): #R^2 = .999 for S = 0.1 -> 0.6\n",
    "            A = .368\n",
    "            B = 5.33\n",
    "            C = -19.5\n",
    "            D = 32.2\n",
    "            E = -19.5\n",
    "            h = A + B * S + C * S**2 + D * S**3 + E * S**4\n",
    "        elif (S < 1.5): #R^2 = .997 for S = 0.5 -> 2.0\n",
    "            A = .904\n",
    "            B = .147\n",
    "            C = -.0729\n",
    "            D = .0117\n",
    "            E = 0\n",
    "            h = A + B * S + C * S**2 + D * S**3 + E * S**4 \n",
    "        elif (S <= 10): \n",
    "            h = 1\n",
    "        \n",
    "    elif (abs(l - d) < .001): # L/D = 1\n",
    "        if (S < .002):\n",
    "            print(\"Error in Thickness: Out of Graph Range\")\n",
    "            h = None\n",
    "        elif (S < 0.06): #R^2 = .999 for S = 0.002 -> 0.1\n",
    "            A = -8.31E-3\n",
    "            B = 7.01\n",
    "            C = -88.5\n",
    "            D = 966\n",
    "            E = -4235\n",
    "            h = A + B * S + C * S**2 + D * S**3 + E * S**4\n",
    "        elif (S < .6): #R^2 = .998 for S = 0.08 -> 0.8\n",
    "            A = .0705\n",
    "            B = 3.57\n",
    "            C = 8.71\n",
    "            D = 11.2\n",
    "            E = -5.52\n",
    "            h = A + B * S + C * S**2 + D * S**3 + E * S**4\n",
    "        elif (S < 5): #R^2 = .999 for S = 0.8 -> 5\n",
    "            A = .631\n",
    "            B = .354\n",
    "            C = -.154\n",
    "            D = .0307\n",
    "            E = -2.25E-3\n",
    "            h = A + B * S + C * S**2 + D * S**3 + E * S**4\n",
    "        elif (S < 10): #R^2 = 1 for S = 4 -> 10\n",
    "            A = 0.75\n",
    "            B = .125\n",
    "            C = -.026\n",
    "            D = 2.47E-3\n",
    "            E = -8.71E-5\n",
    "            h = A + B * S + C * S**2 + D * S**3 + E * S**4\n",
    "        else: h = None\n",
    "        return h\n",
    "    #elif (abs(l / d - 1/2) < .001): # L/D = 1/2\n",
    "    #    if (S <)\n",
    "    #elif (abs(l / d - 1/4) < .001): # L/D = 1/4\n",
    "    #    if"
   ]
  },
  {
   "cell_type": "markdown",
   "metadata": {},
   "source": [
    "### Flow Factor Interpolating Function\n",
    "Currently only for Infinite L/D Cases"
   ]
  },
  {
   "cell_type": "code",
   "execution_count": 50,
   "metadata": {},
   "outputs": [],
   "source": [
    "\n",
    "# Flow Factor Q/(rcNl) calaculation\n",
    "#   Fit values to readings from fig 12-19.\n",
    "#   Non-infinite cases not implemented\n",
    "def FlowFactor(S, inf = True):\n",
    "    if(inf):\n",
    "        if(S < 0.06):\n",
    "            Q = 37.4 * S - 9.32E-3 # Linear Interpolation 0 -> 0.06, R^2 = 0.997\n",
    "        elif(S < 0.341):\n",
    "            Q = 3.59 + 0.456 * np.log(S) # Natural Log Interpolation 0.06 -> 0.4, R^2 = 0.916\n",
    "        else: # S >= 0.341\n",
    "            Q = 3.1\n",
    "    else: Q = None\n",
    "    return Q "
   ]
  },
  {
   "cell_type": "markdown",
   "metadata": {},
   "source": [
    "## Naturally-Fed Journal Bearing Iterative Solver"
   ]
  },
  {
   "cell_type": "code",
   "execution_count": 51,
   "metadata": {},
   "outputs": [],
   "source": [
    "# -- Natural Journal Function Definition -- \n",
    "# Grade = Oil Grade, as a String (\"10W-40\") for \n",
    "def NaturalJournal(Grade, Tout_guess, T_in, load, rpm, l, r, c, convergence = 0.1, Metric = False, echo_iter = False, echo = False):\n",
    "    p = load / (2 * r * l)\n",
    "    rps = rpm /60 \n",
    "\n",
    "    Tavg_guess = (T_in + Tout_guess)/2\n",
    "\n",
    "    # Determining if it needs to be parsed as interpolated or Seireg for calculating mu\n",
    "    #   Currently differentiated by Seireg being Int, Interpolation being String\n",
    "\n",
    "    if(isinstance(Grade, str)): \n",
    "        try: \n",
    "            mu_guess = Visc_SAE_Inter(Temp = Tavg_guess, Grade = Grade, Metric = Metric)\n",
    "            method = \"Inter\" # keep for later solving\n",
    "        except: print(\"Likely could not Parse Grade\")\n",
    "    if(isinstance(Grade, int)):\n",
    "        try: \n",
    "            mu_guess = Visc_SAE_Seireg(Temp = Tavg_guess, Grade = Grade, Metric = Metric)\n",
    "            method = \"Seireg\" # keep for later solving\n",
    "        except: print(\"Likely could not Parse Grade\")\n",
    "    \n",
    "    S_guess = Sommerfeld(mu = mu_guess, r = r, c = c, N = rps, p = p)\n",
    "    delT_guess = TempDelta(Tval = TempFactor(S = S_guess, l = l, d = 2*r, mu = mu_guess, N = rps, p = p, c = c), p = p, Metric = Metric)\n",
    "\n",
    "    error = convergence*1.1 # Throwaway to run while loop\n",
    "    n = 0\n",
    "    while error > convergence:\n",
    "        if(echo_iter): print(n)\n",
    "        if(echo): \n",
    "            print(\"Tavg: \" + str(Tavg_guess))\n",
    "            print(\"Mu: \" + str(mu_guess))\n",
    "            print(\"Sommerfeld#: \" + str(S_guess))\n",
    "            print(\"Temp Delta: \" + str(delT_guess))\n",
    "        # Keeping track of iterative values\n",
    "        Tavg_prev = Tavg_guess\n",
    "        mu_prev = mu_guess\n",
    "        S_prev = S_guess\n",
    "        delT_prev = delT_guess\n",
    "        n = n+1\n",
    "        \n",
    "        \n",
    "        # Same as before, just iterating\n",
    "        Tout_guess = T_in + delT_guess\n",
    "        Tavg_guess = T_in + delT_guess/2\n",
    "        match method:\n",
    "            case \"Inter\": mu_guess = Visc_SAE_Inter(Temp = Tavg_guess, Grade = Grade, Metric = Metric)\n",
    "            case \"Seireg\": mu_guess = Visc_SAE_Seireg(Temp = Tavg_guess, Grade = Grade, Metric = Metric)\n",
    "        S_guess = Sommerfeld(mu = mu_guess, r = r, c = c, N = rps, p = p)\n",
    "        delT_guess = TempDelta(Tval = TempFactor(S = S_guess, l = l, d = 2*r, mu = mu_guess, N = rps, p = p, c = c), p = p, Metric = Metric)\n",
    "\n",
    "        error = abs(delT_guess - delT_prev)\n",
    "\n",
    "    print(\"Converged on Iteration:\" + '\\t' + str(n))\n",
    "    print(\"Sommerfeld:\" + '\\t' + str(S_guess))\n",
    "    print(\"Outlet Temperature:\" + '\\t' + str(T_in + delT_guess))\n",
    "    return(S_guess, T_in + delT_guess)\n"
   ]
  },
  {
   "cell_type": "markdown",
   "metadata": {},
   "source": [
    "## Pressure-fed Bearing Iterative Solver\n",
    "**requires implementation of h_0 solver for finding eccentricity**"
   ]
  },
  {
   "cell_type": "code",
   "execution_count": 52,
   "metadata": {},
   "outputs": [
    {
     "ename": "SyntaxError",
     "evalue": "invalid syntax (3528974089.py, line 26)",
     "output_type": "error",
     "traceback": [
      "\u001b[1;36m  Cell \u001b[1;32mIn[52], line 26\u001b[1;36m\u001b[0m\n\u001b[1;33m    delT_guess = np.pi * ps * r * c**3 / (3 * mu_guess * le) * (1 + 1.5 * )\u001b[0m\n\u001b[1;37m                                                                          ^\u001b[0m\n\u001b[1;31mSyntaxError\u001b[0m\u001b[1;31m:\u001b[0m invalid syntax\n"
     ]
    }
   ],
   "source": [
    "# -- Pressure Fed Journal Function Definition -- \n",
    "# Grade = Oil Grade, as a String (\"10W-40\") for \n",
    "def PressureJournal(Grade, Tout_guess, T_in, load, rpm, l, r, c, lg, ps, convergence = 0.1, Metric = False, echo_iter = False):\n",
    "    rps = rpm /60 \n",
    "    le = (l - lg)/2 # effective length of grooved\n",
    "    p = load/2 / (2 * r * le) + ps # halved load, split length, + input pressure\n",
    "\n",
    "    Tavg_guess = (T_in + Tout_guess)/2\n",
    "\n",
    "    # Determining if it needs to be parsed as interpolated or Seireg for calculating mu\n",
    "    #   Currently differentiated by Seireg being Int, Interpolation being String\n",
    "\n",
    "    if(isinstance(Grade, str)): \n",
    "        try: \n",
    "            mu_guess = Visc_SAE_Inter(Temp = Tavg_guess, Grade = Grade, Metric = Metric)\n",
    "            method = \"Inter\" # keep for later solving\n",
    "        except: print(\"Likely could not Parse Grade\")\n",
    "    if(isinstance(Grade, int)):\n",
    "        try: \n",
    "            mu_guess = Visc_SAE_Seireg(Temp = Tavg_guess, Grade = Grade, Metric = Metric)\n",
    "            method = \"Seireg\" # keep for later solving\n",
    "        except: print(\"Likely could not Parse Grade\")\n",
    "    \n",
    "    S_guess = Sommerfeld(mu = mu_guess, r = r, c = c, N = rps, p = p)\n",
    "    #delT_guess = TempDelta(Tval = TempFactor(S = S_guess, l = le, d = 2*r, mu = mu_guess, N = rps, p = p, c = c), p = p, Metric = Metric)\n",
    "    delT_guess = np.pi * ps * r * c**3 / (3 * mu_guess * le) * (1 + 1.5 * )\n",
    "\n",
    "    error = convergence*1.1 # Throwaway to run while loop\n",
    "    n = 0\n",
    "    while error > convergence:\n",
    "        if(echo_iter): print(n)\n",
    "        # Keeping track of iterative values\n",
    "        Tavg_prev = Tavg_guess\n",
    "        mu_prev = mu_guess\n",
    "        S_prev = S_guess\n",
    "        delT_prev = delT_guess\n",
    "        n = n+1\n",
    "        \n",
    "        # Same as before, just iterating\n",
    "        Tout_guess = T_in + delT_guess\n",
    "        Tavg_guess = T_in + delT_guess/2\n",
    "        match method:\n",
    "            case \"Inter\": mu_guess = Visc_SAE_Inter(Temp = Tavg_guess, Grade = Grade, Metric = Metric)\n",
    "            case \"Seireg\": mu_guess = Visc_SAE_Seireg(Temp = Tavg_guess, Grade = Grade, Metric = Metric)\n",
    "        S_guess = Sommerfeld(mu = mu_guess, r = r, c = c, N = rps, p = p)\n",
    "        delT_guess = TempDelta(Tval = TempFactor(S = S_guess, l = le, d = 2*r, mu = mu_guess, N = rps, p = p, c = c), p = p, Metric = Metric)\n",
    "\n",
    "        error = abs(delT_guess - delT_prev)\n",
    "\n",
    "    print(\"Converged on Iteration:\" + '\\t' + str(n))\n",
    "    print(\"Sommerfeld:\" + '\\t' + str(S_guess))\n",
    "    print(\"Outlet Temperature:\" + '\\t' + str(T_in + delT_guess))\n",
    "    return(S_guess, T_in + delT_guess)\n"
   ]
  },
  {
   "cell_type": "markdown",
   "metadata": {},
   "source": [
    "# EMAE360 Testing"
   ]
  },
  {
   "cell_type": "code",
   "execution_count": 83,
   "metadata": {},
   "outputs": [],
   "source": [
    "Grade = \"10W-40\" \n",
    "load_N = 54896.76 # testing\n",
    "Tin_degC = 40\n",
    "r_m = 28.027977E-3\n",
    "l_m = 25.980451E-3\n",
    "rpm = 8000\n",
    "# cursed\n",
    "rpm = rpm * np.pi\n",
    "\n",
    "\n",
    "c = r_m*2/1000\n",
    "\n",
    "\n",
    "Tout_g = 60"
   ]
  },
  {
   "cell_type": "code",
   "execution_count": 84,
   "metadata": {},
   "outputs": [
    {
     "name": "stdout",
     "output_type": "stream",
     "text": [
      "0\n",
      "Tavg: 50.0\n",
      "Mu: 0.04383922465747996\n",
      "Sommerfeld#: 0.12179044106540823\n",
      "Temp Delta: 373.54560462187493\n",
      "1\n",
      "Tavg: 226.77280231093746\n",
      "Mu: 0.0041450918948781066\n",
      "Sommerfeld#: 0.01151554513288404\n",
      "Temp Delta: 167.52374398961723\n",
      "2\n",
      "Tavg: 123.76187199480862\n",
      "Mu: 0.010661555069632012\n",
      "Sommerfeld#: 0.029619034198682448\n",
      "Temp Delta: 194.35224341310908\n",
      "3\n",
      "Tavg: 137.17612170655454\n",
      "Mu: 0.009080328909353529\n",
      "Sommerfeld#: 0.025226204877700827\n",
      "Temp Delta: 186.7757661912282\n",
      "4\n",
      "Tavg: 133.3878830956141\n",
      "Mu: 0.009485812111715324\n",
      "Sommerfeld#: 0.026352684153876423\n",
      "Temp Delta: 188.69035214565258\n",
      "5\n",
      "Tavg: 134.3451760728263\n",
      "Mu: 0.009380578701568576\n",
      "Sommerfeld#: 0.02606033355833726\n",
      "Temp Delta: 188.19133635166418\n",
      "6\n",
      "Tavg: 134.0956681758321\n",
      "Mu: 0.009407821387174255\n",
      "Sommerfeld#: 0.026136016892649053\n",
      "Temp Delta: 188.3203825849992\n",
      "7\n",
      "Tavg: 134.1601912924996\n",
      "Mu: 0.009400763952963624\n",
      "Sommerfeld#: 0.026116410523421073\n",
      "Temp Delta: 188.2869427751215\n",
      "Converged on Iteration:\t8\n",
      "Sommerfeld:\t0.02612148881349437\n",
      "Outlet Temperature:\t228.2956034695158\n"
     ]
    },
    {
     "data": {
      "text/plain": [
       "(0.02612148881349437, 228.2956034695158)"
      ]
     },
     "execution_count": 84,
     "metadata": {},
     "output_type": "execute_result"
    }
   ],
   "source": [
    "NaturalJournal(Grade = Grade, Tout_guess = Tout_g, T_in = Tin_degC, load = load_N, rpm = rpm, l = l_m, r = r_m, c = c, Metric = True, convergence=.01, echo_iter = True, echo = True)"
   ]
  },
  {
   "cell_type": "markdown",
   "metadata": {},
   "source": [
    "Non-Pressure Fed Grooved Bearing"
   ]
  },
  {
   "cell_type": "code",
   "execution_count": 56,
   "metadata": {},
   "outputs": [
    {
     "name": "stdout",
     "output_type": "stream",
     "text": [
      "0\n",
      "Tavg: 50.0\n",
      "Mu: 0.04383922465747996\n",
      "Sommerfeld#: 0.036828746362113585\n",
      "Temp Delta: 431.06345635512076\n",
      "1\n",
      "Tavg: 255.53172817756038\n",
      "Mu: 0.0034406629686332623\n",
      "Sommerfeld#: 0.002890454947124405\n",
      "Temp Delta: -472.5844575373364\n",
      "Outside of Interpolation acceptability range (Metric)\n"
     ]
    },
    {
     "ename": "TypeError",
     "evalue": "unsupported operand type(s) for *: 'float' and 'NoneType'",
     "output_type": "error",
     "traceback": [
      "\u001b[1;31m---------------------------------------------------------------------------\u001b[0m",
      "\u001b[1;31mTypeError\u001b[0m                                 Traceback (most recent call last)",
      "Cell \u001b[1;32mIn[56], line 5\u001b[0m\n\u001b[0;32m      2\u001b[0m groove \u001b[39m=\u001b[39m l_m \u001b[39m/\u001b[39m \u001b[39m20\u001b[39m \u001b[39m# UPDATE THIS\u001b[39;00m\n\u001b[0;32m      3\u001b[0m length_eff \u001b[39m=\u001b[39m (l_m \u001b[39m-\u001b[39m groove)\u001b[39m/\u001b[39m\u001b[39m2\u001b[39m\n\u001b[1;32m----> 5\u001b[0m NaturalJournal(Grade \u001b[39m=\u001b[39m Grade_10W, Tout_guess \u001b[39m=\u001b[39m Tout_g, T_in \u001b[39m=\u001b[39m Tin_degC, load \u001b[39m=\u001b[39m load_split, rpm \u001b[39m=\u001b[39m rpm, l \u001b[39m=\u001b[39m length_eff, r \u001b[39m=\u001b[39m r_m, c \u001b[39m=\u001b[39m c, Metric \u001b[39m=\u001b[39m \u001b[39mTrue\u001b[39;00m, convergence\u001b[39m=\u001b[39m\u001b[39m.01\u001b[39m, echo_iter \u001b[39m=\u001b[39m \u001b[39mTrue\u001b[39;00m, echo \u001b[39m=\u001b[39m \u001b[39mTrue\u001b[39;00m)\n",
      "Cell \u001b[1;32mIn[51], line 49\u001b[0m, in \u001b[0;36mNaturalJournal\u001b[1;34m(Grade, Tout_guess, T_in, load, rpm, l, r, c, convergence, Metric, echo_iter, echo)\u001b[0m\n\u001b[0;32m     45\u001b[0m Tavg_guess \u001b[39m=\u001b[39m T_in \u001b[39m+\u001b[39m delT_guess\u001b[39m/\u001b[39m\u001b[39m2\u001b[39m\n\u001b[0;32m     46\u001b[0m \u001b[39mmatch\u001b[39;00m method:\n\u001b[0;32m     47\u001b[0m     \u001b[39mcase\u001b[39;00m \u001b[39m\"\u001b[39m\u001b[39mInter\u001b[39m\u001b[39m\"\u001b[39m: mu_guess \u001b[39m=\u001b[39m Visc_SAE_Inter(Temp \u001b[39m=\u001b[39m Tavg_guess, Grade \u001b[39m=\u001b[39m Grade, Metric \u001b[39m=\u001b[39m Metric)\n\u001b[0;32m     48\u001b[0m     \u001b[39mcase\u001b[39;00m \u001b[39m\"\u001b[39m\u001b[39mSeireg\u001b[39m\u001b[39m\"\u001b[39m: mu_guess \u001b[39m=\u001b[39m Visc_SAE_Seireg(Temp \u001b[39m=\u001b[39m Tavg_guess, Grade \u001b[39m=\u001b[39m Grade, Metric \u001b[39m=\u001b[39m Metric)\n\u001b[1;32m---> 49\u001b[0m S_guess \u001b[39m=\u001b[39m Sommerfeld(mu \u001b[39m=\u001b[39m mu_guess, r \u001b[39m=\u001b[39m r, c \u001b[39m=\u001b[39m c, N \u001b[39m=\u001b[39m rps, p \u001b[39m=\u001b[39m p)\n\u001b[0;32m     50\u001b[0m delT_guess \u001b[39m=\u001b[39m TempDelta(Tval \u001b[39m=\u001b[39m TempFactor(S \u001b[39m=\u001b[39m S_guess, l \u001b[39m=\u001b[39m l, d \u001b[39m=\u001b[39m \u001b[39m2\u001b[39m\u001b[39m*\u001b[39mr, mu \u001b[39m=\u001b[39m mu_guess, N \u001b[39m=\u001b[39m rps, p \u001b[39m=\u001b[39m p, c \u001b[39m=\u001b[39m c), p \u001b[39m=\u001b[39m p, Metric \u001b[39m=\u001b[39m Metric)\n\u001b[0;32m     52\u001b[0m error \u001b[39m=\u001b[39m \u001b[39mabs\u001b[39m(delT_guess \u001b[39m-\u001b[39m delT_prev)\n",
      "Cell \u001b[1;32mIn[45], line 3\u001b[0m, in \u001b[0;36mSommerfeld\u001b[1;34m(mu, r, c, N, p, echo)\u001b[0m\n\u001b[0;32m      2\u001b[0m \u001b[39mdef\u001b[39;00m \u001b[39mSommerfeld\u001b[39m(mu, r, c, N, p, echo \u001b[39m=\u001b[39m \u001b[39mFalse\u001b[39;00m):\n\u001b[1;32m----> 3\u001b[0m     S \u001b[39m=\u001b[39m (\u001b[39mfloat\u001b[39m(r)\u001b[39m/\u001b[39m\u001b[39mfloat\u001b[39m(c))\u001b[39m*\u001b[39m\u001b[39m*\u001b[39m\u001b[39m2\u001b[39m \u001b[39m*\u001b[39m mu \u001b[39m*\u001b[39m \u001b[39mfloat\u001b[39m(N) \u001b[39m/\u001b[39m \u001b[39mfloat\u001b[39m(p) \n\u001b[0;32m      4\u001b[0m     \u001b[39mif\u001b[39;00m(echo): \u001b[39mprint\u001b[39m(\u001b[39m\"\u001b[39m\u001b[39mSommerfeld #: \u001b[39m\u001b[39m\"\u001b[39m \u001b[39m+\u001b[39m \u001b[39mstr\u001b[39m(S))\n\u001b[0;32m      5\u001b[0m     \u001b[39mreturn\u001b[39;00m S\n",
      "\u001b[1;31mTypeError\u001b[0m: unsupported operand type(s) for *: 'float' and 'NoneType'"
     ]
    }
   ],
   "source": [
    "load_split = load_N/2\n",
    "groove = l_m / 20 # UPDATE THIS\n",
    "length_eff = (l_m - groove)/2\n",
    "\n",
    "NaturalJournal(Grade = Grade_10W, Tout_guess = Tout_g, T_in = Tin_degC, load = load_split, rpm = rpm, l = length_eff, r = r_m, c = c, Metric = True, convergence=.01, echo_iter = True, echo = True)"
   ]
  },
  {
   "cell_type": "markdown",
   "metadata": {},
   "source": [
    "#### From 12-11 Pressure-fed Bearings\n",
    "\n",
    "For a grooved journal bearing, must account for the journal length being reduced by 1/2 (by the split) as well as the by the actual axial length of the groove. NOTE that the load being accepted by this decreased length is also approximately halved, however -- that is, the pressure is split in half while the length accepted is also (approximately) halved, but the l/d ratio is (approximately) halved as well, which will cause more significant changes.\n",
    "\n",
    "$l_{eff} = {(l_{tot} - l_{groove}) \\over 2}$\n",
    "\n",
    "For pressure-fed bearings:\n",
    "\n",
    "- The pressure at the interface is equal to the normal pressure that would be generated plus the pumped pressure\n",
    "\n",
    "- The heat generated is side flow that results is related to (beyond the natural parameters) the input pressure and the eccentricity of the shaft -- or more accurately, the eccentricity ratio of \n",
    "\n",
    "$\\epsilon = {e \\over c}$ where $h_0 = c - e$\n",
    "\n",
    "such that\n",
    "\n",
    "$Q_s = {\\pi  p_s  r  c^3 \\over 3  \\mu  l_{eff}} \\times (1 + 1.5 \\times \\epsilon^2)$\n",
    "\n",
    "Along with this, the temperature rise becomes equal to:\n",
    "\n",
    "$\\Delta T = A \\times {f r / c \\over 1 + 1.5 \\epsilon ^2} \\times {S W^2 \\over p_s r^4} $\n",
    "\n",
    "Where A depends on the system:\n",
    "- A = 0.0123 for Fahrenheit\n",
    "- A = 978 10^6 for Celsius"
   ]
  },
  {
   "cell_type": "code",
   "execution_count": 282,
   "metadata": {},
   "outputs": [
    {
     "data": {
      "text/plain": [
       "True"
      ]
     },
     "execution_count": 282,
     "metadata": {},
     "output_type": "execute_result"
    }
   ],
   "source": []
  },
  {
   "cell_type": "markdown",
   "metadata": {},
   "source": [
    "# Script Testing "
   ]
  },
  {
   "cell_type": "markdown",
   "metadata": {},
   "source": [
    "EMAE370 Chapter 12: Journal Bearings"
   ]
  },
  {
   "cell_type": "markdown",
   "metadata": {},
   "source": [
    "## Iterative Approach"
   ]
  },
  {
   "cell_type": "code",
   "execution_count": 57,
   "metadata": {},
   "outputs": [
    {
     "name": "stdout",
     "output_type": "stream",
     "text": [
      "Pressure (psi): 34.72222222222222\n"
     ]
    }
   ],
   "source": [
    "Grd = 30 #SAE30\n",
    "\n",
    "load_lbf = 10E3\n",
    "rpm = 900\n",
    "Tin_degF = 180\n",
    "\n",
    "l_in = 12\n",
    "r_in = 12\n",
    "\n",
    "p_psi = load_lbf / (2*r_in * l_in)\n",
    "\n",
    "c = r_in*2/1000\n",
    "\n",
    "rps = 900 / 60\n",
    "\n",
    "Tout_guess = 205\n",
    "Tavg_guess = (180+205)/2\n",
    "\n",
    "print(\"Pressure (psi): \" + str(p_psi))"
   ]
  },
  {
   "cell_type": "code",
   "execution_count": 58,
   "metadata": {},
   "outputs": [
    {
     "name": "stdout",
     "output_type": "stream",
     "text": [
      "0.024\n"
     ]
    }
   ],
   "source": [
    "Tavg_guess\n",
    "print(c)"
   ]
  },
  {
   "cell_type": "code",
   "execution_count": 59,
   "metadata": {},
   "outputs": [
    {
     "name": "stdout",
     "output_type": "stream",
     "text": [
      "Converged on Iteration:\t2\n",
      "Sommerfeld:\t0.20274919171300873\n",
      "Outlet Temperature:\t186.0465037493159\n",
      "Converged on Iteration:\t2\n",
      "Sommerfeld:\t0.19784152696857824\n",
      "Outlet Temperature:\t185.97898108603331\n",
      "Converged on Iteration:\t4\n",
      "Sommerfeld:\t0.035741734360170724\n",
      "Outlet Temperature:\t88.91126207056917\n",
      "Equals deg F: 192.0402717270245\n",
      "\n",
      "Converged on Iteration:\t2\n",
      "Sommerfeld:\t0.17359991046717627\n",
      "Outlet Temperature:\t185.38090203908226\n",
      "Converged on Iteration:\t2\n",
      "Sommerfeld:\t0.3008371867568187\n",
      "Outlet Temperature:\t188.2846597721297\n"
     ]
    },
    {
     "data": {
      "text/plain": [
       "(0.3008371867568187, 188.2846597721297)"
      ]
     },
     "execution_count": 59,
     "metadata": {},
     "output_type": "execute_result"
    }
   ],
   "source": [
    "# Testing rational l/d case\n",
    "NaturalJournal(Grade = Grd, Tout_guess = 205, T_in = Tin_degF, load = load_lbf, rpm = rpm, l = l_in, r = r_in, c = c)\n",
    "\n",
    "# Testing interpolated l/d case\n",
    "NaturalJournal(Grade = Grd, Tout_guess = 205, T_in = Tin_degF, load = load_lbf, rpm = rpm, l = l_in, r = r_in-.1, c = c)\n",
    "\n",
    "# Testing Metric case\n",
    "vals = NaturalJournal(Grade = Grd, Tout_guess = ConvertTemp(205), T_in = ConvertTemp(Tin_degF), load = 239401.3888888889, rpm = rpm, l = 0.30479999999999996, r = 0.30479999999999996, c = 0.0006096, Metric = True, convergence= .0001)\n",
    "print(\"Equals deg F: \" + str(ConvertTemp(vals[1], Metric=True)) + '\\n')\n",
    "\n",
    "# Testing Interpolation case\n",
    "NaturalJournal(Grade = \"30\", Tout_guess = 205, T_in = Tin_degF, load = load_lbf, rpm = rpm, l = l_in, r = r_in, c = c)\n",
    "# Testing 10W-40\n",
    "NaturalJournal(Grade = \"10W-40\", Tout_guess = 205, T_in = Tin_degF, load = load_lbf, rpm = rpm, l = l_in, r = r_in, c = c)\n",
    "\n",
    "# Note that"
   ]
  },
  {
   "cell_type": "code",
   "execution_count": 60,
   "metadata": {},
   "outputs": [
    {
     "name": "stdout",
     "output_type": "stream",
     "text": [
      "239401.3888888889\n",
      "0.30479999999999996\n",
      "0.30479999999999996\n",
      "0.17260151016781655\n",
      "0.17256751866691883\n",
      "5.357324139179529\n",
      "2.9857783546994976\n"
     ]
    }
   ],
   "source": [
    "\n",
    "Tin_m = ConvertTemp(180, Metric = False)\n",
    "#print(Tin_m)\n",
    "Tout_m = ConvertTemp(205, Metric = False)\n",
    "#print(Tout_m)\n",
    "\n",
    "load_Pa = p_psi * 6894.76\n",
    "print(load_Pa)\n",
    "\n",
    "l_m = l_in * .0254\n",
    "r_m = r_in * .0254\n",
    "c_m = r_m * 2 /1000\n",
    "print(l_m)\n",
    "print(r_m)\n",
    "#print(c_m)\n",
    "\n",
    "\n",
    "mu = Visc_SAE_Seireg(Temp = (180+205)/2, Grade = 30, Metric = False)\n",
    "mu_m = Visc_SAE_Seireg(Temp = (96.1 + 82.2)/2, Grade = 30, Metric = True)\n",
    "#print(mu)\n",
    "#print(mu_m)\n",
    "#print(mu_m / 6890)\n",
    "#mu = Visc_SAE_Inter(Temp = (180+205)/2, Grade = \"30\", Metric = False)\n",
    "#mu_m = Visc_SAE_Inter(Temp = (96.1 + 82.2)/2, Grade = \"30\", Metric = True)\n",
    "#print(mu_m / 6890)\n",
    "\n",
    "S_guess = Sommerfeld(mu = mu, r = r_in, c = c, N = rps, p = p_psi)\n",
    "print(S_guess)\n",
    "S_guess = Sommerfeld(mu = mu_m, r = r_m, c = c_m, N = rps, p = load_Pa)\n",
    "print(S_guess)\n",
    "\n",
    "delT_g = TempDelta(Tval = TempFactor(S = S_guess, l = l_in, d = r_in*2, mu = mu, N = rps, p = p_psi, c =c), p = p_psi)\n",
    "#print(TempFactor(S = S_guess, l = l_in, d = r_in*2, mu = mu, N = rps, p = p_psi, c =c))\n",
    "print(delT_g)\n",
    "delT_g = TempDelta(Tval = TempFactor(S = S_guess, l = l_m, d = r_m*2, mu = mu_m, N = rps, p = load_Pa, c = c_m), p = load_Pa, Metric = True)\n",
    "#print(TempFactor(S = S_guess, l = l_m, d = r_m*2, mu = mu_m, N = rps, p = load_Pa, c = c_m))\n",
    "#print(TempFactor(S = S_guess, l = l_in, d = r_in*2, mu = mu, N = rps, p = p_psi, c =c))\n",
    "print(delT_g)"
   ]
  },
  {
   "cell_type": "code",
   "execution_count": 61,
   "metadata": {},
   "outputs": [
    {
     "data": {
      "text/plain": [
       "192.03961999999999"
      ]
     },
     "execution_count": 61,
     "metadata": {},
     "output_type": "execute_result"
    }
   ],
   "source": [
    "ConvertTemp(88.9109, Metric = True)"
   ]
  },
  {
   "cell_type": "code",
   "execution_count": 62,
   "metadata": {},
   "outputs": [
    {
     "data": {
      "text/plain": [
       "0.01917794557420184"
      ]
     },
     "execution_count": 62,
     "metadata": {},
     "output_type": "execute_result"
    }
   ],
   "source": [
    "mu = 1.5981621311834866e-06\n",
    "r = 4\n",
    "c = 0.008\n",
    "N = 15\n",
    "p = 312.5\n",
    "(r/c)**2 * mu * N / p\n",
    "#Sommerfeld(mu= 1.5981621311834866e-06, r = 4, c = .008, N = 15, p = 312.5)"
   ]
  },
  {
   "cell_type": "code",
   "execution_count": null,
   "metadata": {},
   "outputs": [],
   "source": []
  },
  {
   "cell_type": "code",
   "execution_count": null,
   "metadata": {},
   "outputs": [],
   "source": [
    "# Guess Temperature\n",
    "Tout_g = 205\n",
    "Tavg_g = (Tin_degF + Tout_g)/2\n",
    "print(\"Guess Film Average Temp, degF: \" + str(Tavg_g))"
   ]
  },
  {
   "cell_type": "code",
   "execution_count": null,
   "metadata": {},
   "outputs": [],
   "source": [
    "Tout = Tout_g\n",
    "\n",
    "error = 1.1 # throwaway value\n",
    "firstIterFlag = True\n",
    "convergence_res = .1 # deg F\n",
    "n = 1\n",
    "while error > convergence_res:\n",
    "    if firstIterFlag:   \n",
    "        Tavg = (Tin_degF + Tout)/2\n",
    "        mu = Visc_SAE_Seireg(Temp = Tavg, Grade = Grd, Metric = False)\n",
    "        print(\"Viscosity: \" + str(mu))\n",
    "        S = Sommerfeld(mu = mu, r = r_in, c = c, N = rps, p = p_psi)\n",
    "        delT = TempDelta(Tval = TempFactor(S = S, l = l_in, d = 2*r_in), p = p_psi, iter = n)\n",
    "        firstIterFlag = False\n",
    "    \n",
    "    n = n+1\n",
    "    # Storing for comparison to exit while loop\n",
    "    Tavg_prev = Tavg\n",
    "    mu_prev = mu \n",
    "    S_prev = S \n",
    "    delT_prev = delT \n",
    "\n",
    "    Tout = Tin_degF + delT \n",
    "    Tavg = Tin_degF + delT/2\n",
    "    mu = Visc_SAE_Seireg(Temp = Tavg, Grade = Grd, Metric = False)\n",
    "    S = Sommerfeld(mu = mu, r = r_in, c = c, N = rps, p = p_psi)\n",
    "    delT = TempDelta(Tval = TempFactor(S = S, l = l_in, d = 2*r_in), p = p_psi, iter = n)\n",
    "\n",
    "    error = abs(delT - delT_prev) \n",
    "    if (error <= convergence_res):\n",
    "        print(\"S ~ last iteration Sommerfeld: \" + str(S) + '\\n' + \"Tout ~ last iteration Temp: \" + str(Tin_degF + delT))\n",
    "        output = (S, Tin_degF + delT)\n",
    "\n"
   ]
  },
  {
   "cell_type": "markdown",
   "metadata": {},
   "source": [
    "## Manual Approach"
   ]
  },
  {
   "cell_type": "code",
   "execution_count": 63,
   "metadata": {},
   "outputs": [
    {
     "name": "stdout",
     "output_type": "stream",
     "text": [
      "Pressure (psi): 34.72222222222222\n"
     ]
    }
   ],
   "source": [
    "## SAE 30\n",
    "\n",
    "load_lbf = 10E3\n",
    "rpm = 900\n",
    "Tin_degF = 180\n",
    "\n",
    "l_in = 12\n",
    "r_in = 12\n",
    "\n",
    "# --- #\n",
    "\n",
    "p_psi = load_lbf / (2*r_in * l_in)\n",
    "\n",
    "c = r_in*2/1000\n",
    "rps = 900 / 60\n",
    "\n",
    "print(\"Pressure (psi): \" + str(p_psi))"
   ]
  },
  {
   "cell_type": "code",
   "execution_count": 64,
   "metadata": {},
   "outputs": [
    {
     "name": "stdout",
     "output_type": "stream",
     "text": [
      "Guess Film Average Temp, degF: 192.5\n"
     ]
    }
   ],
   "source": [
    "Tout_1 = 205\n",
    "Tavg_1 = (Tin_degF + Tout_1)/2\n",
    "print(\"Guess Film Average Temp, degF: \" + str(Tavg_1))"
   ]
  },
  {
   "cell_type": "code",
   "execution_count": 65,
   "metadata": {},
   "outputs": [],
   "source": [
    "mu_1 = 1.4E-6"
   ]
  },
  {
   "cell_type": "code",
   "execution_count": 66,
   "metadata": {},
   "outputs": [
    {
     "name": "stdout",
     "output_type": "stream",
     "text": [
      "0.1512\n"
     ]
    }
   ],
   "source": [
    "S_1 = Sommerfeld(mu = mu_1, r = r_in, c = c, N = rps, p = p_psi)\n",
    "print(S_1)"
   ]
  },
  {
   "cell_type": "code",
   "execution_count": 67,
   "metadata": {},
   "outputs": [
    {
     "name": "stdout",
     "output_type": "stream",
     "text": [
      "Temperature Delta (1): 4.869268232249714\n",
      "184.8692682322497\n"
     ]
    }
   ],
   "source": [
    "delT_1 = TempDelta(Tval = TempFactor(S = S_1, l = l_in, d = 2*r_in), p = p_psi, iter = 1)\n",
    "\n",
    "T_2 = Tin_degF + delT_1\n",
    "print(T_2)"
   ]
  },
  {
   "cell_type": "code",
   "execution_count": 68,
   "metadata": {},
   "outputs": [
    {
     "name": "stdout",
     "output_type": "stream",
     "text": [
      "Guess Film Average Temp, degF: 182.43463411612487\n"
     ]
    }
   ],
   "source": [
    "Tavg_2 =  Tin_degF + delT_1/2\n",
    "print(\"Guess Film Average Temp, degF: \" + str(Tavg_2))"
   ]
  },
  {
   "cell_type": "code",
   "execution_count": 69,
   "metadata": {},
   "outputs": [
    {
     "name": "stdout",
     "output_type": "stream",
     "text": [
      "Temperature Delta (2): 5.8558786818167246\n",
      "185.85587868181673\n"
     ]
    }
   ],
   "source": [
    "mu_2 = 1.8E-6\n",
    "S_2 = Sommerfeld(mu = mu_2, r = r_in, c = c, N = rps, p = p_psi)\n",
    "delT_2 = TempDelta(Tval = TempFactor(S = S_2, l = l_in, d = 2*r_in), p = p_psi, iter = 2)\n",
    "T_3 = Tin_degF + delT_2\n",
    "print(T_3)"
   ]
  },
  {
   "cell_type": "code",
   "execution_count": 70,
   "metadata": {},
   "outputs": [
    {
     "name": "stdout",
     "output_type": "stream",
     "text": [
      "Guess Film Average Temp, degF: 182.92793934090835\n"
     ]
    }
   ],
   "source": [
    "Tavg_3 =  Tin_degF + delT_2/2\n",
    "print(\"Guess Film Average Temp, degF: \" + str(Tavg_3))"
   ]
  },
  {
   "cell_type": "code",
   "execution_count": 71,
   "metadata": {},
   "outputs": [
    {
     "name": "stdout",
     "output_type": "stream",
     "text": [
      "Temperature Delta (3): 5.8558786818167246\n"
     ]
    }
   ],
   "source": [
    "mu_3 = 1.8E-6\n",
    "S_3 = Sommerfeld(mu = mu_3, r = r_in, c = c, N = rps, p = p_psi)\n",
    "delT_3 = TempDelta(Tval = TempFactor(S = S_3, l = l_in, d = 2*r_in), p = p_psi, iter = 3)\n",
    "T_4 = Tin_degF + delT_3"
   ]
  },
  {
   "cell_type": "code",
   "execution_count": 72,
   "metadata": {},
   "outputs": [
    {
     "name": "stdout",
     "output_type": "stream",
     "text": [
      "185.85587868181673\n"
     ]
    }
   ],
   "source": [
    "Tout = Tin_degF + delT_3\n",
    "print(Tout)"
   ]
  },
  {
   "cell_type": "code",
   "execution_count": 73,
   "metadata": {},
   "outputs": [
    {
     "name": "stdout",
     "output_type": "stream",
     "text": [
      "h_0: 0.019200000000000002\n",
      "f: 0.0028\n",
      "Qfull: 303.264\n",
      "Side Flow Qs: 285.06816\n"
     ]
    }
   ],
   "source": [
    "h_0 = c * .8\n",
    "print(\"h_0: \" + str(h_0))\n",
    "f = c/r_in * 1.4\n",
    "print(\"f: \" + str(f))\n",
    "Q = 5.85 * r_in * c * rps * l_in\n",
    "print(\"Qfull: \" + str(Q))\n",
    "Qs = .94 * Q \n",
    "print(\"Side Flow Qs: \" + str(Qs))\n"
   ]
  }
 ],
 "metadata": {
  "kernelspec": {
   "display_name": "Python 3",
   "language": "python",
   "name": "python3"
  },
  "language_info": {
   "codemirror_mode": {
    "name": "ipython",
    "version": 3
   },
   "file_extension": ".py",
   "mimetype": "text/x-python",
   "name": "python",
   "nbconvert_exporter": "python",
   "pygments_lexer": "ipython3",
   "version": "3.11.3"
  }
 },
 "nbformat": 4,
 "nbformat_minor": 2
}
