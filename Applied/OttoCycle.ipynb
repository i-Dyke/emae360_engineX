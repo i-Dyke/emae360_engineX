{
 "cells": [
  {
   "cell_type": "code",
   "execution_count": 12,
   "metadata": {},
   "outputs": [],
   "source": [
    "class ThermoState: \n",
    "    def __init__(self, pressure_kPa:float, temperature_K:float, density_kgm3:float, volume_m3:float):\n",
    "        self.pressure_kPa = pressure_kPa\n",
    "        self.temperature_K = temperature_K\n",
    "        self.density_kgm3 = density_kgm3\n",
    "        self.volume_m3 = volume_m3\n",
    "            \n",
    "    def set_pressure(self, p_kPa:float):\n",
    "        self.pressure_kPa =  p_kPa\n",
    "    \n",
    "    def set_temperature(self, T_K:float):\n",
    "        self.temperature_K = T_K\n",
    "    \n",
    "    def set_density(self, d_kgm3:float):\n",
    "        self.density_kgm3 = d_kgm3\n",
    "    \n",
    "    def set_volume(self, v_m3:float):\n",
    "        self.volume_m3 = v_m3\n",
    "    \n",
    "    def get_pressure(): return self.pressure_kPa\n",
    "    def get_temperature(): return self.temperature_K\n",
    "    def get_density(): return self.density_kgm3\n",
    "    def get_volume(): return self.volume_m3\n",
    "\n",
    "\n",
    "def intake(state:ThermoState, CR:float):\n",
    "    state.set_volume(v_m3 = state.get_volume() * CR)\n",
    "\n",
    "def compression(state:ThermoState, CR:float, gamma:float, comp_eff:float)\n",
    "    state.set_volume(v_m3 = state.get_volume() / CR)\n",
    "    state.set_density(d_kgm3 = state.get_density() * CR)\n",
    "    state.set_pressure(p_kPa = (state.get_density() * CR)^(gamma))\n",
    "    state.set_temperature(T_K = state.get_temperature() * ( 1 + (CR^(gamma - 1) -1)/comp_eff ))\n",
    "\n",
    "def \n",
    "\n",
    "\n",
    "\n"
   ]
  },
  {
   "cell_type": "code",
   "execution_count": null,
   "metadata": {},
   "outputs": [],
   "source": []
  }
 ],
 "metadata": {
  "kernelspec": {
   "display_name": "base",
   "language": "python",
   "name": "python3"
  },
  "language_info": {
   "codemirror_mode": {
    "name": "ipython",
    "version": 3
   },
   "file_extension": ".py",
   "mimetype": "text/x-python",
   "name": "python",
   "nbconvert_exporter": "python",
   "pygments_lexer": "ipython3",
   "version": "3.11.3"
  },
  "orig_nbformat": 4
 },
 "nbformat": 4,
 "nbformat_minor": 2
}
