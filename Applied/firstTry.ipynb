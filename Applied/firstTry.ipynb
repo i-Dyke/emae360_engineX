{
 "cells": [
  {
   "cell_type": "markdown",
   "metadata": {},
   "source": [
    "Terminal: \n",
    "\n",
    "pip install -e C:\\Users\\ID\\.bitbucket\\cea\\Wrapd \n"
   ]
  },
  {
   "cell_type": "code",
   "execution_count": 2,
   "metadata": {},
   "outputs": [
    {
     "name": "stdout",
     "output_type": "stream",
     "text": [
      "Obtaining file:///C:/Users/ID/.bitbucket/cea/Wrapd\n",
      "  Installing build dependencies: started\n",
      "  Installing build dependencies: finished with status 'done'\n",
      "  Checking if build backend supports build_editable: started\n",
      "  Checking if build backend supports build_editable: finished with status 'done'\n",
      "  Getting requirements to build editable: started\n",
      "  Getting requirements to build editable: finished with status 'done'\n",
      "  Installing backend dependencies: started\n",
      "  Installing backend dependencies: finished with status 'done'\n",
      "  Preparing editable metadata (pyproject.toml): started\n",
      "  Preparing editable metadata (pyproject.toml): finished with status 'done'\n",
      "Requirement already satisfied: appdirs in c:\\users\\id\\anaconda3\\lib\\site-packages (from CEA-Wrapd==1.6.1) (1.4.4)\n",
      "Building wheels for collected packages: CEA-Wrapd\n",
      "  Building editable for CEA-Wrapd (pyproject.toml): started\n",
      "  Building editable for CEA-Wrapd (pyproject.toml): finished with status 'done'\n",
      "  Created wheel for CEA-Wrapd: filename=CEA_Wrapd-1.6.1-0.editable-py3-none-any.whl size=21860 sha256=efe4673a4d4368b1907c57c16721e71ba2d474319ee52859e6df2df36b33bf57\n",
      "  Stored in directory: C:\\Users\\ID\\AppData\\Local\\Temp\\pip-ephem-wheel-cache-kg8387ag\\wheels\\cc\\25\\76\\0bcfea1d5771b49bd5dc804acbb7a2dc0fa6e3c45370de0ef9\n",
      "Successfully built CEA-Wrapd\n",
      "Installing collected packages: CEA-Wrapd\n",
      "  Attempting uninstall: CEA-Wrapd\n",
      "    Found existing installation: CEA-Wrapd 1.6.1\n",
      "    Uninstalling CEA-Wrapd-1.6.1:\n",
      "      Successfully uninstalled CEA-Wrapd-1.6.1\n",
      "Successfully installed CEA-Wrapd-1.6.1\n"
     ]
    }
   ],
   "source": [
    "!pip install -e C:\\Users\\ID\\.bitbucket\\cea\\Wrapd \n",
    "\n",
    "import CEA_Wrapd as cea"
   ]
  },
  {
   "cell_type": "markdown",
   "metadata": {},
   "source": [
    "https://pypi.org/project/CEA-Wrap/ \n",
    "\n",
    "Desired Reactants:\n",
    "> C7H16,n-heptane\n",
    "> C8H18,isooctane\n",
    "> Air"
   ]
  },
  {
   "cell_type": "code",
   "execution_count": 7,
   "metadata": {},
   "outputs": [],
   "source": [
    "import CEA_Wrapd as cea\n",
    "import numpy as np \n",
    "import matplotlib.pyplot as plt\n",
    "from matplotlib import cm\n",
    "from mpl_toolkits.mplot3d import Axes3D\n",
    "import OttoCycle as oc\n",
    "import copy\n",
    "import csv"
   ]
  },
  {
   "cell_type": "code",
   "execution_count": 4,
   "metadata": {},
   "outputs": [],
   "source": [
    "hept = 'C7H16,n-heptane'\n",
    "oct = 'C8H18,isooctane'\n",
    "a = \"Air\"\n",
    "f1 = cea.Fuel(hept, temp = 350, wt_percent = 13.00)\n",
    "f2 = cea.Fuel(oct, temp = 350, wt_percent = 87.00)\n",
    "o1 = cea.Oxidizer(a, temp = 320, wt_percent = 100)"
   ]
  },
  {
   "cell_type": "code",
   "execution_count": 12,
   "metadata": {},
   "outputs": [],
   "source": [
    "\n",
    "m = [f1,f2,o1]\n",
    "m87 = m\n",
    "p1 = cea.UVProblem(\n",
    "    filename = \"first\", \n",
    "    materials = m,\n",
    "    density = 1.1731,\n",
    "    density_units = \"kg\",\n",
    "    massf = True\n",
    ")\n",
    "p1.set_o_f(12.0)"
   ]
  },
  {
   "cell_type": "code",
   "execution_count": 6,
   "metadata": {},
   "outputs": [
    {
     "data": {
      "text/plain": [
       "{'prod_c': {'Ar': 0.01192,\n",
       "  'CO': 0.07734,\n",
       "  'CO2': 0.11595,\n",
       "  'H': 7e-05,\n",
       "  'H2': 0.00167,\n",
       "  'H2O': 0.09272,\n",
       "  'NO': 0.00126,\n",
       "  'N2': 0.6965,\n",
       "  'O': 0.0001,\n",
       "  'OH': 0.00198,\n",
       "  'O2': 0.00048},\n",
       " 'dLV_dLP_t': -1.00207,\n",
       " 'dLV_dLT_p': 1.053,\n",
       " 'visc': 8.933400000000001e-05,\n",
       " 'p': 9.3745,\n",
       " 't': 2612.7,\n",
       " 'rho': 1.1731,\n",
       " 'h': 585.72,\n",
       " 'u': -213.41,\n",
       " 'g': -24174.0,\n",
       " 's': 9.4766,\n",
       " 'm': 0.0,\n",
       " 'mw': 27.184,\n",
       " 'cp': 1.9335,\n",
       " 'gammas': 1.2096,\n",
       " 'phi': 1.2615,\n",
       " 'son': 983.19,\n",
       " 'cond': 3.2465,\n",
       " 'pran': 0.53205,\n",
       " 'gamma': 1.2121038720000001}"
      ]
     },
     "execution_count": 6,
     "metadata": {},
     "output_type": "execute_result"
    }
   ],
   "source": [
    "data = p1.run()\n",
    "data\n",
    "#data.cp"
   ]
  },
  {
   "cell_type": "code",
   "execution_count": 30,
   "metadata": {},
   "outputs": [
    {
     "name": "stdout",
     "output_type": "stream",
     "text": [
      "1.1731\n",
      "5.556734079778884\n",
      "10.792625222693953\n",
      "0.000415\n",
      "0.008654871111111111\n"
     ]
    }
   ],
   "source": [
    "\n",
    "IGC_air = .287 # kJ/kgK\n",
    "Qcomb = 45000 #kJ/kg\n",
    "comb_eff = .9\n",
    "\n",
    "Amb_Pres = 101 #kPa\n",
    "Amb_Temp = 300 #K\n",
    "Amb_Dens = 1.1731 #kg/m3\n",
    "gamma_air = 1.4\n",
    "comp_eff = .85\n",
    "exp_eff = .9\n",
    "\n",
    "af_deci = 12\n",
    "disp_deci = 1660 * 1E-6\n",
    "CylCt_deci = 4\n",
    "CR_deci = 10\n",
    "Cp = 1.005\n",
    "Cv = Cp/gamma_air\n",
    "\n",
    "cylvol = disp_deci / CylCt_deci\n",
    "vol_deci = cylvol/CR_deci\n",
    "Otto_deci= oc.Otto(Amb_Pres, Amb_Temp, Amb_Dens, vol_deci, CR_deci, gamma_air, comp_eff, exp_eff)\n",
    "OtCyc_deci = oc.cyc_real(Otto_deci, \"AFvsDISP\", m87, True, af_deci, reac_warming= False, report_comb= True)\n",
    "\n",
    "print(OtCyc_deci[5].get_density())\n",
    "\n",
    "W = oc.cyc_work(OtCyc_deci, CR_deci, Cv, CylCt_deci, disp_deci)\n",
    "print(W)\n",
    "\n",
    "OtIdeal = oc.cyc_ideal(Otto_deci, IGC_air, Qcomb, Cp, comb_eff, af_deci)\n",
    "W_ideal = oc.cyc_work(OtIdeal, CR_deci, Cv, CylCt_deci, disp_deci)\n",
    "print(W_ideal)\n",
    "\n",
    "#print(OtIdeal[0].curr_state())\n",
    "#print(OtIdeal[1].curr_state())\n",
    "#print(OtIdeal[2].curr_state())\n",
    "#print(OtIdeal[3].curr_state())\n",
    "#print(OtIdeal[4].curr_state())\n",
    "#print(OtIdeal[5].curr_state())\n",
    "\n",
    "Wcheck = (Cv * (OtIdeal[3].get_temperature() - OtIdeal[2].get_temperature()) - Cv * (OtIdeal[4].get_temperature() -OtIdeal[1].get_temperature())) #* (CylCt_deci * disp_deci)*(CR_deci/(CR_deci-1)) * OtIdeal[1].get_density()\n",
    "Wcheck = (CylCt_deci * disp_deci)*(CR_deci/(CR_deci-1)) * OtIdeal[1].get_density()\n",
    "print(Wcheck)\n"
   ]
  },
  {
   "cell_type": "code",
   "execution_count": null,
   "metadata": {},
   "outputs": [],
   "source": [
    "\n",
    "pv = OtCyc_deci[4].get_pressure() / OtCyc_deci[4].get_density() - OtCyc_deci[2].get_pressure() / OtCyc_deci[2].get_density()\n",
    "W = oc.cyc_work(OtCyc_deci, CR, Cv, CylCt_deci, disp_deci)\n",
    "Q = OtCyc_deci[6].h - pv - W\n",
    "print(Q)"
   ]
  },
  {
   "cell_type": "code",
   "execution_count": 12,
   "metadata": {},
   "outputs": [
    {
     "data": {
      "text/plain": [
       "{'prod_c': {'Ar': 0.00852,\n",
       "  'CO': 0.02557,\n",
       "  'CO2': 0.1065,\n",
       "  'H': 0.00011,\n",
       "  'H2': 0.00597,\n",
       "  'H2O': 0.14228,\n",
       "  'NO': 0.00026,\n",
       "  'N2': 0.71023,\n",
       "  'O': 1e-05,\n",
       "  'OH': 0.00049,\n",
       "  'O2': 5e-05},\n",
       " 'dLV_dLP_t': -1.00027,\n",
       " 'dLV_dLT_p': 1.0083,\n",
       " 'visc': 8.2597e-05,\n",
       " 'p': 68.947,\n",
       " 't': 2339.1,\n",
       " 'h': -107.39,\n",
       " 'mw': 28.233,\n",
       " 'cp': 1.5462,\n",
       " 'gammas': 1.2398,\n",
       " 'phi': 1.0813,\n",
       " 'rho': 10.009,\n",
       " 'son': 924.12,\n",
       " 'cond': 1.9359,\n",
       " 'pran': 0.65969,\n",
       " 'gamma': 1.240134746}"
      ]
     },
     "execution_count": 12,
     "metadata": {},
     "output_type": "execute_result"
    }
   ],
   "source": [
    "test = cea.HPProblem(materials = m, p_f = 14)\n",
    "test.run()\n",
    "\n"
   ]
  }
 ],
 "metadata": {
  "kernelspec": {
   "display_name": "base",
   "language": "python",
   "name": "python3"
  },
  "language_info": {
   "codemirror_mode": {
    "name": "ipython",
    "version": 3
   },
   "file_extension": ".py",
   "mimetype": "text/x-python",
   "name": "python",
   "nbconvert_exporter": "python",
   "pygments_lexer": "ipython3",
   "version": "3.11.3"
  },
  "orig_nbformat": 4
 },
 "nbformat": 4,
 "nbformat_minor": 2
}
