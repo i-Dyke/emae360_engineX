{
 "cells": [
  {
   "cell_type": "code",
   "execution_count": 3,
   "metadata": {},
   "outputs": [],
   "source": [
    "import numpy as np \n",
    "import sympy as s \n",
    "import matplotlib.pyplot as plt"
   ]
  },
  {
   "cell_type": "markdown",
   "metadata": {},
   "source": [
    "# Spring Calcs"
   ]
  },
  {
   "cell_type": "markdown",
   "metadata": {},
   "source": [
    "### Parameters"
   ]
  },
  {
   "cell_type": "code",
   "execution_count": 4,
   "metadata": {},
   "outputs": [],
   "source": [
    "f_op = 8000/60 /2 #rpm * min/sec = Hz, divided by 2 for the ratio Crank to Cam\n",
    "travel_req = .010349 #m"
   ]
  },
  {
   "cell_type": "markdown",
   "metadata": {},
   "source": [
    "### Formula Definitions"
   ]
  },
  {
   "cell_type": "code",
   "execution_count": 5,
   "metadata": {},
   "outputs": [],
   "source": [
    "#Stiffness & Coils\n",
    "d, G, D, Na, k = s.symbols(\"d G D N_a k\")\n",
    "\n",
    "stiffness = s.Eq(d**4 * G / (8 * D**3 * Na), k)\n",
    "\n",
    "Nt, p, Ls, Lf = s.symbols('N_t p L_s L_f')\n",
    "\n",
    "total_coil = s.Eq(Na + 2, Nt)\n",
    "length_solid = s.Eq( (Nt - .75)*d, Ls)\n",
    "length_free = s.Eq( p*Na + 2*d, Lf )\n",
    "pitch = s.Eq( (Lf - 2*d)/Na , p)\n",
    "\n",
    "ID = s.symbols(\"D_i\")\n",
    "ID = s.Eq( D - d, ID)"
   ]
  },
  {
   "cell_type": "code",
   "execution_count": 6,
   "metadata": {},
   "outputs": [],
   "source": [
    "# Stability\n",
    "E, alp, L0 = s.symbols('E \\alpha L_0')\n",
    "\n",
    "stable_length = s.Eq(np.pi * D / alp * (2 * (E - G)/(2*G + E))**.5, L0)"
   ]
  },
  {
   "cell_type": "code",
   "execution_count": 7,
   "metadata": {},
   "outputs": [],
   "source": [
    "# Resonance\n",
    "g, W, dens, f = s.symbols(\"g W \\roh f\")\n",
    "grav = 9.81 #m/s/s/\n",
    "weight = s.Eq(np.pi**2 * d**2 * D * Na/4 * dens, W)\n",
    "freq = s.Eq( 1/2 * (k * g / W)**.5, f)"
   ]
  },
  {
   "cell_type": "markdown",
   "metadata": {},
   "source": [
    "# Analysis"
   ]
  },
  {
   "cell_type": "code",
   "execution_count": 18,
   "metadata": {},
   "outputs": [],
   "source": [
    "# Materials\n",
    "G_ASTM401 = 77.2E9 #Pa\n",
    "E_ASTM401 = 203.4E9 #Pa"
   ]
  },
  {
   "cell_type": "markdown",
   "metadata": {},
   "source": [
    "Basic Spring Dimensions"
   ]
  },
  {
   "cell_type": "code",
   "execution_count": 19,
   "metadata": {},
   "outputs": [],
   "source": [
    "G_choose = G_ASTM401\n",
    "E_choose = E_ASTM401\n",
    "\n",
    "D_choose = .020625 #m\n",
    "d_choose = .003048 #m\n",
    "Na_choose = 7 #coil #\n",
    "Lf_choose = .04450 #m\n",
    "density = 7750 #kg/m3"
   ]
  },
  {
   "cell_type": "markdown",
   "metadata": {},
   "source": [
    "Stiffness Calculation\n"
   ]
  },
  {
   "cell_type": "code",
   "execution_count": 20,
   "metadata": {},
   "outputs": [
    {
     "name": "stdout",
     "output_type": "stream",
     "text": [
      "Stiffness Evaluated to: 13561.4851372780N/m\n"
     ]
    }
   ],
   "source": [
    "k_eval = s.solve(stiffness.subs([(d, d_choose),(G,G_choose),(D, D_choose),(Na, Na_choose)]), k)[0]\n",
    "print(\"Stiffness Evaluated to: \" + str(k_eval) + \"N/m\")"
   ]
  },
  {
   "cell_type": "code",
   "execution_count": 21,
   "metadata": {},
   "outputs": [
    {
     "name": "stdout",
     "output_type": "stream",
     "text": [
      "N_total: 9\n",
      "N_active: 7\n",
      "Pitch: 0.00548628571428571\n",
      "Solid Length: 0.0251460000000000\n",
      "Free Length: 0.0445\n",
      "Index: 6.766732283464568\n",
      "Sufficient Travel: 0.0193540000000000 > 0.010349 :: True\n"
     ]
    }
   ],
   "source": [
    "Nt_eval = s.solve(total_coil.subs([(Na,Na_choose)]), Nt)[0]\n",
    "Ls_eval = s.solve(length_solid.subs([(Nt, Nt_eval),(d, d_choose)]), Ls)[0]\n",
    "p_eval = s.solve(pitch.subs([(Na, Na_choose),(d, d_choose),(Lf, Lf_choose)]))[0]\n",
    "c = D_choose / d_choose \n",
    "\n",
    "print(\"N_total: \" + str(Nt_eval))\n",
    "print(\"N_active: \" + str(Na_choose))\n",
    "print(\"Pitch: \" + str(p_eval))\n",
    "print(\"Solid Length: \" + str(Ls_eval))\n",
    "print(\"Free Length: \" + str(Lf_choose))\n",
    "print(\"Index: \" + str(c))\n",
    "\n",
    "print(\"Sufficient Travel: \" + str(Lf_choose - Ls_eval) + \" > \" + str(travel_req) + \" :: \" + str((Lf_choose - Ls_eval) > travel_req))"
   ]
  },
  {
   "cell_type": "markdown",
   "metadata": {},
   "source": [
    "### Resonance"
   ]
  },
  {
   "cell_type": "code",
   "execution_count": 22,
   "metadata": {},
   "outputs": [
    {
     "name": "stdout",
     "output_type": "stream",
     "text": [
      "Weight = 0.251612600604009\n",
      "Natural Frequency = 363.573 > 66.667 by 5.5x\n"
     ]
    }
   ],
   "source": [
    "m_eval = s.solve(weight.subs([(d, d_choose),(D, D_choose),(Na, Na_choose),(dens, density)]), W)[0]\n",
    "W_eval = m_eval * grav\n",
    "\n",
    "f_eval = s.solve(freq.subs([(W, W_eval),(g, grav),(k, k_eval)]), f)[0] \n",
    "\n",
    "print(\"Weight = \" + str(W_eval))\n",
    "print(\"Natural Frequency = \" + str(round(f_eval,3)) + \" > \" + str(round(f_op,3)) + \" by \" + str(round(f_eval/f_op, 1)) + \"x\")"
   ]
  },
  {
   "cell_type": "markdown",
   "metadata": {},
   "source": [
    "### Stability"
   ]
  },
  {
   "cell_type": "code",
   "execution_count": 23,
   "metadata": {},
   "outputs": [
    {
     "name": "stdout",
     "output_type": "stream",
     "text": [
      "Minimum Stable Length = 0.1088m :: Is greater than Ls: True\n"
     ]
    }
   ],
   "source": [
    "alpha = 0.5 # for two flat plate end conditions, per Table 10-2 Shigleys\n",
    "L0_eval = s.solve(stable_length.subs([(D, D_choose),(alp, alpha),(E, E_choose),(G, G_choose)]), L0)[0]\n",
    "\n",
    "print(\"Minimum Stable Length = \" + str(round(L0_eval, 4)) + \"m\" + \" :: \" + \"Is greater than Ls: \" + str(L0_eval > Ls_eval))"
   ]
  },
  {
   "cell_type": "markdown",
   "metadata": {},
   "source": [
    "### Fatigue"
   ]
  },
  {
   "cell_type": "code",
   "execution_count": 24,
   "metadata": {},
   "outputs": [
    {
     "name": "stdout",
     "output_type": "stream",
     "text": [
      "K_B = 1.2077539669556683\n"
     ]
    }
   ],
   "source": [
    "K_B =  (4 * c + 2) / (4 * c - 3) # Bergstrasser\n",
    "print(\"K_B = \" + str(K_B))"
   ]
  },
  {
   "cell_type": "code",
   "execution_count": 35,
   "metadata": {},
   "outputs": [
    {
     "name": "stdout",
     "output_type": "stream",
     "text": [
      "tau_amp = 162.110474246699 MPa\n",
      "tau_avg = 171.938113210167 MPa\n"
     ]
    }
   ],
   "source": [
    "# Middle and Amplitude Values of Force Applied\n",
    "\n",
    "L_pre = 44.1765E-3\n",
    "L_app = L_pre - travel_req\n",
    "\n",
    "F_pre = (Lf_choose - L_pre) * k_eval\n",
    "F_app = (Lf_choose - L_app) * k_eval\n",
    "\n",
    "F_amp = F_app / 2\n",
    "tau_amp =  K_B * 8 * F_amp * D_choose / np.pi / d_choose**3\n",
    "F_avg = (F_pre + F_app) - F_amp\n",
    "tau_avg = tau_amp * F_avg / F_amp\n",
    "\n",
    "print(\"tau_amp = \" + str(tau_amp/(1E6)) + \" MPa\")\n",
    "print(\"tau_avg = \" +  str(tau_avg/(1E6)) + \" MPa\")"
   ]
  },
  {
   "cell_type": "code",
   "execution_count": 26,
   "metadata": {},
   "outputs": [
    {
     "name": "stdout",
     "output_type": "stream",
     "text": [
      "Ult Tensile = 1750.142988175243\n",
      "Shear Ultimate = 1166.7619921168287\n",
      "Shear Endurance = 269.42875330612185\n"
     ]
    }
   ],
   "source": [
    "A = 1974 # Table 10-4, MPa\n",
    "m = .108 # Table 10-4\n",
    "Sut = A/( (d_choose*1000) ** m) # divided to be in units of mm\n",
    "print(\"Ult Tensile = \" + str(Sut))\n",
    "\n",
    "Sus = 2/3 * Sut #MPa\n",
    "Sys = .56 * Sut #MPa\n",
    "\n",
    "Sas = 241 # Formula 10-28, MPa\n",
    "Sms = 379 # Formula 10-29, MPa\n",
    "Ses = Sas / (1 - (Sms / Sus)**2)\n",
    "\n",
    "print(\"Shear Ultimate = \" + str(Sus))\n",
    "print(\"Shear Endurance = \" + str(Ses))\n"
   ]
  },
  {
   "cell_type": "code",
   "execution_count": 27,
   "metadata": {},
   "outputs": [
    {
     "name": "stdout",
     "output_type": "stream",
     "text": [
      "Middle Value Endurance Strength = 229.542904878507\n",
      "FoS = 1.33503212634378\n"
     ]
    }
   ],
   "source": [
    "y, xSus, xSm, ySe, ySa, x = s.symbols(\"y x_{Sus} x_{Sm} y_{Se} y_{Sa} x\")\n",
    "Goodman = s.Eq(ySe - ySe/xSus * x, y)\n",
    "LL = s.Eq(ySa / xSm * x, y)\n",
    "solns = s.solve([Goodman, LL], (x,y))\n",
    "fatigue_strength = solns[x].subs([(xSus, Sus),(ySe, Ses),(xSm, tau_avg/(1E6)),(ySa, tau_amp/(1E6))]) # converted Pa to MPa\n",
    "FoS = fatigue_strength/(tau_avg/(1E6))\n",
    "print(\"Middle Value Endurance Strength = \" + str(fatigue_strength))\n",
    "print(\"FoS = \" + str(FoS))"
   ]
  },
  {
   "cell_type": "code",
   "execution_count": 44,
   "metadata": {},
   "outputs": [
    {
     "data": {
      "text/plain": [
       "Text(0, 0.5, 'Amplitude/Endurance Stress, MPa')"
      ]
     },
     "execution_count": 44,
     "metadata": {},
     "output_type": "execute_result"
    },
    {
     "data": {
      "image/png": "[encoded data removed]",
      "text/plain": [
       "<Figure size 640x480 with 1 Axes>"
      ]
     },
     "metadata": {},
     "output_type": "display_data"
    }
   ],
   "source": [
    "# Plotted Goodman:\n",
    "xrange = np.linspace(0, Sus*1.2, 200)\n",
    "points_Goodman = Ses - Ses/Sus * xrange \n",
    "points_Loadline = tau_amp / tau_avg * xrange\n",
    "\n",
    "plt.plot(xrange, points_Goodman, color = 'blue', label = \"Goodman Effective Strength\")\n",
    "plt.plot(xrange, points_Loadline, color = 'orange', label = \"Effective Load Line\")\n",
    "plt.axvline(fatigue_strength, color = 'black', linestyle = \"--\", label = (\"Intersect @ x = \" + str(round(fatigue_strength,1)) + \" MPa\"))\n",
    "plt.scatter(x = tau_avg/1E6, y = tau_amp/1E6, color = 'red', label = \"Load Applied\")\n",
    "plt.legend()\n",
    "plt.title(\"Goodman Fatigue Analysis\")\n",
    "plt.xlabel(\"Average/Ultimate Stress, MPa\")\n",
    "plt.ylabel(\"Amplitude/Endurance Stress, MPa\")"
   ]
  }
 ],
 "metadata": {
  "kernelspec": {
   "display_name": "base",
   "language": "python",
   "name": "python3"
  },
  "language_info": {
   "codemirror_mode": {
    "name": "ipython",
    "version": 3
   },
   "file_extension": ".py",
   "mimetype": "text/x-python",
   "name": "python",
   "nbconvert_exporter": "python",
   "pygments_lexer": "ipython3",
   "version": "3.11.3"
  },
  "orig_nbformat": 4
 },
 "nbformat": 4,
 "nbformat_minor": 2
}
