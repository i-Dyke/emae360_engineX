{
 "cells": [
  {
   "cell_type": "code",
   "execution_count": 3,
   "metadata": {},
   "outputs": [],
   "source": [
    "import sympy as s"
   ]
  },
  {
   "cell_type": "code",
   "execution_count": 23,
   "metadata": {},
   "outputs": [],
   "source": [
    "P, rho, R, T = s.symbols('P \\\\roh R T')\n",
    "\n",
    "W, Cv, D, C, rc = s.symbols('W C_v D C r_c')\n",
    "\n",
    "T1, T2, T3, T4 = s.symbols('T_1 T_2 T_3 T_4')\n",
    "P1, P2, P3, P4 = s.symbols('P_1 P_2 P_3 P_4')\n",
    "gamma = s.symbols('\\\\gamma')\n",
    "\n",
    "rho1, rho2, rho3, rho4 = s.symbols('\\\\rho_1 \\\\rho_2 \\\\rho_3 \\\\rho_4')\n",
    "\n",
    "N, m_air, f, Wtot = s.symbols('N m_air f W_{total}')\n",
    "\n",
    "eta_c = s.symbols('\\\\eta_c')\n",
    "Cp = s.symbols('C_p')\n",
    "Q_lhv = s.symbols('Q_{LHV}')"
   ]
  },
  {
   "cell_type": "code",
   "execution_count": 30,
   "metadata": {},
   "outputs": [
    {
     "data": {
      "text/latex": [
       "$\\displaystyle \\frac{1}{f \\left(- C_{v} \\left(- T_{1} + r_{c} \\left(\\frac{T_{1} r_{c}^{\\gamma}}{r_{c}} + \\frac{Q_{LHV} \\eta_{c}}{C_{p} f}\\right) \\left(\\frac{1}{r_{c}}\\right)^{\\gamma}\\right) + \\frac{C_{v} Q_{LHV} \\eta_{c}}{C_{p} f}\\right)}$"
      ],
      "text/plain": [
       "1/(f*(-C_v*(-T_1 + r_c*(T_1*r_c**\\gamma/r_c + Q_{LHV}*\\eta_c/(C_p*f))*(1/r_c)**\\gamma) + C_v*Q_{LHV}*\\eta_c/(C_p*f)))"
      ]
     },
     "metadata": {},
     "output_type": "display_data"
    }
   ],
   "source": [
    "T2 = P2 / rho2 / R\n",
    "T3 = T2 + eta_c * Q_lhv / Cp / f\n",
    "T4 = P4/rho4/R\n",
    "\n",
    "rho1 = P1/R /T1\n",
    "rho2 = rho1 * rc\n",
    "P2 = P1 * (rho2/rho1) ** gamma\n",
    "rho3 = rho2\n",
    "P3 = rho3 * R * T3\n",
    "rho4 = rho1\n",
    "P4 = P3 * (rho4 / rho3) ** gamma\n",
    "\n",
    "eq_W = (Cv * (T3 - T2) - Cv * (T4 - T1)) * (D/C * (rc / (rc -1)) * rho1)\n",
    "\n",
    "Wtot = eq_W * C\n",
    "\n",
    "mair = D/C * (rc / (rc - 1)) * rho1\n",
    "\n",
    "SFC = C * mair / f / Wtot\n",
    "display(SFC)"
   ]
  }
 ],
 "metadata": {
  "kernelspec": {
   "display_name": "emae360",
   "language": "python",
   "name": "python3"
  },
  "language_info": {
   "codemirror_mode": {
    "name": "ipython",
    "version": 3
   },
   "file_extension": ".py",
   "mimetype": "text/x-python",
   "name": "python",
   "nbconvert_exporter": "python",
   "pygments_lexer": "ipython3",
   "version": "3.12.5"
  }
 },
 "nbformat": 4,
 "nbformat_minor": 2
}
